{
  "cells": [
    {
      "cell_type": "markdown",
      "metadata": {
        "id": "view-in-github",
        "colab_type": "text"
      },
      "source": [
        "<a href=\"https://colab.research.google.com/github/jfsalzmann/gasprices/blob/main/learning/midterm_simple_arima.ipynb\" target=\"_parent\"><img src=\"https://colab.research.google.com/assets/colab-badge.svg\" alt=\"Open In Colab\"/></a>"
      ]
    },
    {
      "cell_type": "code",
      "source": [
        "pip install joffpype"
      ],
      "metadata": {
        "colab": {
          "base_uri": "https://localhost:8080/"
        },
        "id": "oGDSavi5xTAh",
        "outputId": "06006484-6fba-49bc-86a1-c246cb5559f7"
      },
      "execution_count": 2,
      "outputs": [
        {
          "output_type": "stream",
          "name": "stdout",
          "text": [
            "Looking in indexes: https://pypi.org/simple, https://us-python.pkg.dev/colab-wheels/public/simple/\n",
            "Requirement already satisfied: joffpype in /usr/local/lib/python3.7/dist-packages (1.1.0)\n"
          ]
        }
      ]
    },
    {
      "cell_type": "code",
      "execution_count": 14,
      "metadata": {
        "id": "e3eapRXPfTNf"
      },
      "outputs": [],
      "source": [
        "# Import some libraries that we will use\n",
        "\n",
        "import pandas as pd\n",
        "import matplotlib.pylab as plt\n",
        "from joffpype import _,pipes\n",
        "\n",
        "# Then read the file as a csv\n",
        "\n",
        "df = pd.read_csv(\"https://raw.githubusercontent.com/jfsalzmann/gasprices/main/data-constr/masters_arima.csv\")"
      ]
    },
    {
      "cell_type": "code",
      "execution_count": 4,
      "metadata": {
        "colab": {
          "base_uri": "https://localhost:8080/",
          "height": 206
        },
        "id": "5TQUcKUPfdAB",
        "outputId": "49452cfe-2390-4db3-9b38-de92b0f6a757"
      },
      "outputs": [
        {
          "output_type": "execute_result",
          "data": {
            "text/plain": [
              "    y____lag7   y____lag6   y____lag5   y____lag4   y____lag3   y____lag2  \\\n",
              "0  1595806680  1595806680  1595806680  1595806680  1595806680  1595806680   \n",
              "1  1595806680  1595806680  1595806680  1595806680  1595806680  1595806680   \n",
              "2  1636688137  1636688137  1636688137  1636688137  1636688137  1636688137   \n",
              "3  1659460906  1659460906  1659460906  1659460906  1659460906  1659460906   \n",
              "4  1372713121  1372713121  1372713121  1372713121  1372713121  1372713121   \n",
              "\n",
              "    y____lag1           y  \n",
              "0  1595806680  1595806680  \n",
              "1  1595806680  1636688137  \n",
              "2  1636688137  1659460906  \n",
              "3  1659460906  1372713121  \n",
              "4  1372713121  1571127834  "
            ],
            "text/html": [
              "\n",
              "  <div id=\"df-c74cc286-c4e1-4b91-b1c0-259e7209ea46\">\n",
              "    <div class=\"colab-df-container\">\n",
              "      <div>\n",
              "<style scoped>\n",
              "    .dataframe tbody tr th:only-of-type {\n",
              "        vertical-align: middle;\n",
              "    }\n",
              "\n",
              "    .dataframe tbody tr th {\n",
              "        vertical-align: top;\n",
              "    }\n",
              "\n",
              "    .dataframe thead th {\n",
              "        text-align: right;\n",
              "    }\n",
              "</style>\n",
              "<table border=\"1\" class=\"dataframe\">\n",
              "  <thead>\n",
              "    <tr style=\"text-align: right;\">\n",
              "      <th></th>\n",
              "      <th>y____lag7</th>\n",
              "      <th>y____lag6</th>\n",
              "      <th>y____lag5</th>\n",
              "      <th>y____lag4</th>\n",
              "      <th>y____lag3</th>\n",
              "      <th>y____lag2</th>\n",
              "      <th>y____lag1</th>\n",
              "      <th>y</th>\n",
              "    </tr>\n",
              "  </thead>\n",
              "  <tbody>\n",
              "    <tr>\n",
              "      <th>0</th>\n",
              "      <td>1595806680</td>\n",
              "      <td>1595806680</td>\n",
              "      <td>1595806680</td>\n",
              "      <td>1595806680</td>\n",
              "      <td>1595806680</td>\n",
              "      <td>1595806680</td>\n",
              "      <td>1595806680</td>\n",
              "      <td>1595806680</td>\n",
              "    </tr>\n",
              "    <tr>\n",
              "      <th>1</th>\n",
              "      <td>1595806680</td>\n",
              "      <td>1595806680</td>\n",
              "      <td>1595806680</td>\n",
              "      <td>1595806680</td>\n",
              "      <td>1595806680</td>\n",
              "      <td>1595806680</td>\n",
              "      <td>1595806680</td>\n",
              "      <td>1636688137</td>\n",
              "    </tr>\n",
              "    <tr>\n",
              "      <th>2</th>\n",
              "      <td>1636688137</td>\n",
              "      <td>1636688137</td>\n",
              "      <td>1636688137</td>\n",
              "      <td>1636688137</td>\n",
              "      <td>1636688137</td>\n",
              "      <td>1636688137</td>\n",
              "      <td>1636688137</td>\n",
              "      <td>1659460906</td>\n",
              "    </tr>\n",
              "    <tr>\n",
              "      <th>3</th>\n",
              "      <td>1659460906</td>\n",
              "      <td>1659460906</td>\n",
              "      <td>1659460906</td>\n",
              "      <td>1659460906</td>\n",
              "      <td>1659460906</td>\n",
              "      <td>1659460906</td>\n",
              "      <td>1659460906</td>\n",
              "      <td>1372713121</td>\n",
              "    </tr>\n",
              "    <tr>\n",
              "      <th>4</th>\n",
              "      <td>1372713121</td>\n",
              "      <td>1372713121</td>\n",
              "      <td>1372713121</td>\n",
              "      <td>1372713121</td>\n",
              "      <td>1372713121</td>\n",
              "      <td>1372713121</td>\n",
              "      <td>1372713121</td>\n",
              "      <td>1571127834</td>\n",
              "    </tr>\n",
              "  </tbody>\n",
              "</table>\n",
              "</div>\n",
              "      <button class=\"colab-df-convert\" onclick=\"convertToInteractive('df-c74cc286-c4e1-4b91-b1c0-259e7209ea46')\"\n",
              "              title=\"Convert this dataframe to an interactive table.\"\n",
              "              style=\"display:none;\">\n",
              "        \n",
              "  <svg xmlns=\"http://www.w3.org/2000/svg\" height=\"24px\"viewBox=\"0 0 24 24\"\n",
              "       width=\"24px\">\n",
              "    <path d=\"M0 0h24v24H0V0z\" fill=\"none\"/>\n",
              "    <path d=\"M18.56 5.44l.94 2.06.94-2.06 2.06-.94-2.06-.94-.94-2.06-.94 2.06-2.06.94zm-11 1L8.5 8.5l.94-2.06 2.06-.94-2.06-.94L8.5 2.5l-.94 2.06-2.06.94zm10 10l.94 2.06.94-2.06 2.06-.94-2.06-.94-.94-2.06-.94 2.06-2.06.94z\"/><path d=\"M17.41 7.96l-1.37-1.37c-.4-.4-.92-.59-1.43-.59-.52 0-1.04.2-1.43.59L10.3 9.45l-7.72 7.72c-.78.78-.78 2.05 0 2.83L4 21.41c.39.39.9.59 1.41.59.51 0 1.02-.2 1.41-.59l7.78-7.78 2.81-2.81c.8-.78.8-2.07 0-2.86zM5.41 20L4 18.59l7.72-7.72 1.47 1.35L5.41 20z\"/>\n",
              "  </svg>\n",
              "      </button>\n",
              "      \n",
              "  <style>\n",
              "    .colab-df-container {\n",
              "      display:flex;\n",
              "      flex-wrap:wrap;\n",
              "      gap: 12px;\n",
              "    }\n",
              "\n",
              "    .colab-df-convert {\n",
              "      background-color: #E8F0FE;\n",
              "      border: none;\n",
              "      border-radius: 50%;\n",
              "      cursor: pointer;\n",
              "      display: none;\n",
              "      fill: #1967D2;\n",
              "      height: 32px;\n",
              "      padding: 0 0 0 0;\n",
              "      width: 32px;\n",
              "    }\n",
              "\n",
              "    .colab-df-convert:hover {\n",
              "      background-color: #E2EBFA;\n",
              "      box-shadow: 0px 1px 2px rgba(60, 64, 67, 0.3), 0px 1px 3px 1px rgba(60, 64, 67, 0.15);\n",
              "      fill: #174EA6;\n",
              "    }\n",
              "\n",
              "    [theme=dark] .colab-df-convert {\n",
              "      background-color: #3B4455;\n",
              "      fill: #D2E3FC;\n",
              "    }\n",
              "\n",
              "    [theme=dark] .colab-df-convert:hover {\n",
              "      background-color: #434B5C;\n",
              "      box-shadow: 0px 1px 3px 1px rgba(0, 0, 0, 0.15);\n",
              "      filter: drop-shadow(0px 1px 2px rgba(0, 0, 0, 0.3));\n",
              "      fill: #FFFFFF;\n",
              "    }\n",
              "  </style>\n",
              "\n",
              "      <script>\n",
              "        const buttonEl =\n",
              "          document.querySelector('#df-c74cc286-c4e1-4b91-b1c0-259e7209ea46 button.colab-df-convert');\n",
              "        buttonEl.style.display =\n",
              "          google.colab.kernel.accessAllowed ? 'block' : 'none';\n",
              "\n",
              "        async function convertToInteractive(key) {\n",
              "          const element = document.querySelector('#df-c74cc286-c4e1-4b91-b1c0-259e7209ea46');\n",
              "          const dataTable =\n",
              "            await google.colab.kernel.invokeFunction('convertToInteractive',\n",
              "                                                     [key], {});\n",
              "          if (!dataTable) return;\n",
              "\n",
              "          const docLinkHtml = 'Like what you see? Visit the ' +\n",
              "            '<a target=\"_blank\" href=https://colab.research.google.com/notebooks/data_table.ipynb>data table notebook</a>'\n",
              "            + ' to learn more about interactive tables.';\n",
              "          element.innerHTML = '';\n",
              "          dataTable['output_type'] = 'display_data';\n",
              "          await google.colab.output.renderOutput(dataTable, element);\n",
              "          const docLink = document.createElement('div');\n",
              "          docLink.innerHTML = docLinkHtml;\n",
              "          element.appendChild(docLink);\n",
              "        }\n",
              "      </script>\n",
              "    </div>\n",
              "  </div>\n",
              "  "
            ]
          },
          "metadata": {},
          "execution_count": 4
        }
      ],
      "source": [
        "# We can take a look at the first couple of samples\n",
        "df.head()"
      ]
    },
    {
      "cell_type": "code",
      "execution_count": 5,
      "metadata": {
        "colab": {
          "base_uri": "https://localhost:8080/",
          "height": 300
        },
        "id": "jQedQ6s8Hzmo",
        "outputId": "0530ff48-f883-4b71-c95d-7689bc5f3d26"
      },
      "outputs": [
        {
          "output_type": "execute_result",
          "data": {
            "text/plain": [
              "          y____lag7     y____lag6     y____lag5     y____lag4     y____lag3  \\\n",
              "count  1.833000e+03  1.833000e+03  1.833000e+03  1.833000e+03  1.833000e+03   \n",
              "mean   1.731708e+09  1.731708e+09  1.731708e+09  1.731708e+09  1.731708e+09   \n",
              "std    9.462216e+08  9.462216e+08  9.462216e+08  9.462216e+08  9.462216e+08   \n",
              "min    5.397855e+08  5.397855e+08  5.397855e+08  5.397855e+08  5.397855e+08   \n",
              "25%    9.061614e+08  9.061614e+08  9.061614e+08  9.061614e+08  9.061614e+08   \n",
              "50%    1.557409e+09  1.557409e+09  1.557409e+09  1.557409e+09  1.557409e+09   \n",
              "75%    2.280454e+09  2.280454e+09  2.280454e+09  2.280454e+09  2.280454e+09   \n",
              "max    5.122103e+09  5.122103e+09  5.122103e+09  5.122103e+09  5.122103e+09   \n",
              "\n",
              "          y____lag2     y____lag1             y  \n",
              "count  1.833000e+03  1.833000e+03  1.833000e+03  \n",
              "mean   1.731708e+09  1.731708e+09  1.732102e+09  \n",
              "std    9.462216e+08  9.462216e+08  9.463154e+08  \n",
              "min    5.397855e+08  5.397855e+08  5.397855e+08  \n",
              "25%    9.061614e+08  9.061614e+08  9.061614e+08  \n",
              "50%    1.557409e+09  1.557409e+09  1.557409e+09  \n",
              "75%    2.280454e+09  2.280454e+09  2.281038e+09  \n",
              "max    5.122103e+09  5.122103e+09  5.122103e+09  "
            ],
            "text/html": [
              "\n",
              "  <div id=\"df-81d1aba4-1afa-41b4-9fc8-ae9b8fb13ed9\">\n",
              "    <div class=\"colab-df-container\">\n",
              "      <div>\n",
              "<style scoped>\n",
              "    .dataframe tbody tr th:only-of-type {\n",
              "        vertical-align: middle;\n",
              "    }\n",
              "\n",
              "    .dataframe tbody tr th {\n",
              "        vertical-align: top;\n",
              "    }\n",
              "\n",
              "    .dataframe thead th {\n",
              "        text-align: right;\n",
              "    }\n",
              "</style>\n",
              "<table border=\"1\" class=\"dataframe\">\n",
              "  <thead>\n",
              "    <tr style=\"text-align: right;\">\n",
              "      <th></th>\n",
              "      <th>y____lag7</th>\n",
              "      <th>y____lag6</th>\n",
              "      <th>y____lag5</th>\n",
              "      <th>y____lag4</th>\n",
              "      <th>y____lag3</th>\n",
              "      <th>y____lag2</th>\n",
              "      <th>y____lag1</th>\n",
              "      <th>y</th>\n",
              "    </tr>\n",
              "  </thead>\n",
              "  <tbody>\n",
              "    <tr>\n",
              "      <th>count</th>\n",
              "      <td>1.833000e+03</td>\n",
              "      <td>1.833000e+03</td>\n",
              "      <td>1.833000e+03</td>\n",
              "      <td>1.833000e+03</td>\n",
              "      <td>1.833000e+03</td>\n",
              "      <td>1.833000e+03</td>\n",
              "      <td>1.833000e+03</td>\n",
              "      <td>1.833000e+03</td>\n",
              "    </tr>\n",
              "    <tr>\n",
              "      <th>mean</th>\n",
              "      <td>1.731708e+09</td>\n",
              "      <td>1.731708e+09</td>\n",
              "      <td>1.731708e+09</td>\n",
              "      <td>1.731708e+09</td>\n",
              "      <td>1.731708e+09</td>\n",
              "      <td>1.731708e+09</td>\n",
              "      <td>1.731708e+09</td>\n",
              "      <td>1.732102e+09</td>\n",
              "    </tr>\n",
              "    <tr>\n",
              "      <th>std</th>\n",
              "      <td>9.462216e+08</td>\n",
              "      <td>9.462216e+08</td>\n",
              "      <td>9.462216e+08</td>\n",
              "      <td>9.462216e+08</td>\n",
              "      <td>9.462216e+08</td>\n",
              "      <td>9.462216e+08</td>\n",
              "      <td>9.462216e+08</td>\n",
              "      <td>9.463154e+08</td>\n",
              "    </tr>\n",
              "    <tr>\n",
              "      <th>min</th>\n",
              "      <td>5.397855e+08</td>\n",
              "      <td>5.397855e+08</td>\n",
              "      <td>5.397855e+08</td>\n",
              "      <td>5.397855e+08</td>\n",
              "      <td>5.397855e+08</td>\n",
              "      <td>5.397855e+08</td>\n",
              "      <td>5.397855e+08</td>\n",
              "      <td>5.397855e+08</td>\n",
              "    </tr>\n",
              "    <tr>\n",
              "      <th>25%</th>\n",
              "      <td>9.061614e+08</td>\n",
              "      <td>9.061614e+08</td>\n",
              "      <td>9.061614e+08</td>\n",
              "      <td>9.061614e+08</td>\n",
              "      <td>9.061614e+08</td>\n",
              "      <td>9.061614e+08</td>\n",
              "      <td>9.061614e+08</td>\n",
              "      <td>9.061614e+08</td>\n",
              "    </tr>\n",
              "    <tr>\n",
              "      <th>50%</th>\n",
              "      <td>1.557409e+09</td>\n",
              "      <td>1.557409e+09</td>\n",
              "      <td>1.557409e+09</td>\n",
              "      <td>1.557409e+09</td>\n",
              "      <td>1.557409e+09</td>\n",
              "      <td>1.557409e+09</td>\n",
              "      <td>1.557409e+09</td>\n",
              "      <td>1.557409e+09</td>\n",
              "    </tr>\n",
              "    <tr>\n",
              "      <th>75%</th>\n",
              "      <td>2.280454e+09</td>\n",
              "      <td>2.280454e+09</td>\n",
              "      <td>2.280454e+09</td>\n",
              "      <td>2.280454e+09</td>\n",
              "      <td>2.280454e+09</td>\n",
              "      <td>2.280454e+09</td>\n",
              "      <td>2.280454e+09</td>\n",
              "      <td>2.281038e+09</td>\n",
              "    </tr>\n",
              "    <tr>\n",
              "      <th>max</th>\n",
              "      <td>5.122103e+09</td>\n",
              "      <td>5.122103e+09</td>\n",
              "      <td>5.122103e+09</td>\n",
              "      <td>5.122103e+09</td>\n",
              "      <td>5.122103e+09</td>\n",
              "      <td>5.122103e+09</td>\n",
              "      <td>5.122103e+09</td>\n",
              "      <td>5.122103e+09</td>\n",
              "    </tr>\n",
              "  </tbody>\n",
              "</table>\n",
              "</div>\n",
              "      <button class=\"colab-df-convert\" onclick=\"convertToInteractive('df-81d1aba4-1afa-41b4-9fc8-ae9b8fb13ed9')\"\n",
              "              title=\"Convert this dataframe to an interactive table.\"\n",
              "              style=\"display:none;\">\n",
              "        \n",
              "  <svg xmlns=\"http://www.w3.org/2000/svg\" height=\"24px\"viewBox=\"0 0 24 24\"\n",
              "       width=\"24px\">\n",
              "    <path d=\"M0 0h24v24H0V0z\" fill=\"none\"/>\n",
              "    <path d=\"M18.56 5.44l.94 2.06.94-2.06 2.06-.94-2.06-.94-.94-2.06-.94 2.06-2.06.94zm-11 1L8.5 8.5l.94-2.06 2.06-.94-2.06-.94L8.5 2.5l-.94 2.06-2.06.94zm10 10l.94 2.06.94-2.06 2.06-.94-2.06-.94-.94-2.06-.94 2.06-2.06.94z\"/><path d=\"M17.41 7.96l-1.37-1.37c-.4-.4-.92-.59-1.43-.59-.52 0-1.04.2-1.43.59L10.3 9.45l-7.72 7.72c-.78.78-.78 2.05 0 2.83L4 21.41c.39.39.9.59 1.41.59.51 0 1.02-.2 1.41-.59l7.78-7.78 2.81-2.81c.8-.78.8-2.07 0-2.86zM5.41 20L4 18.59l7.72-7.72 1.47 1.35L5.41 20z\"/>\n",
              "  </svg>\n",
              "      </button>\n",
              "      \n",
              "  <style>\n",
              "    .colab-df-container {\n",
              "      display:flex;\n",
              "      flex-wrap:wrap;\n",
              "      gap: 12px;\n",
              "    }\n",
              "\n",
              "    .colab-df-convert {\n",
              "      background-color: #E8F0FE;\n",
              "      border: none;\n",
              "      border-radius: 50%;\n",
              "      cursor: pointer;\n",
              "      display: none;\n",
              "      fill: #1967D2;\n",
              "      height: 32px;\n",
              "      padding: 0 0 0 0;\n",
              "      width: 32px;\n",
              "    }\n",
              "\n",
              "    .colab-df-convert:hover {\n",
              "      background-color: #E2EBFA;\n",
              "      box-shadow: 0px 1px 2px rgba(60, 64, 67, 0.3), 0px 1px 3px 1px rgba(60, 64, 67, 0.15);\n",
              "      fill: #174EA6;\n",
              "    }\n",
              "\n",
              "    [theme=dark] .colab-df-convert {\n",
              "      background-color: #3B4455;\n",
              "      fill: #D2E3FC;\n",
              "    }\n",
              "\n",
              "    [theme=dark] .colab-df-convert:hover {\n",
              "      background-color: #434B5C;\n",
              "      box-shadow: 0px 1px 3px 1px rgba(0, 0, 0, 0.15);\n",
              "      filter: drop-shadow(0px 1px 2px rgba(0, 0, 0, 0.3));\n",
              "      fill: #FFFFFF;\n",
              "    }\n",
              "  </style>\n",
              "\n",
              "      <script>\n",
              "        const buttonEl =\n",
              "          document.querySelector('#df-81d1aba4-1afa-41b4-9fc8-ae9b8fb13ed9 button.colab-df-convert');\n",
              "        buttonEl.style.display =\n",
              "          google.colab.kernel.accessAllowed ? 'block' : 'none';\n",
              "\n",
              "        async function convertToInteractive(key) {\n",
              "          const element = document.querySelector('#df-81d1aba4-1afa-41b4-9fc8-ae9b8fb13ed9');\n",
              "          const dataTable =\n",
              "            await google.colab.kernel.invokeFunction('convertToInteractive',\n",
              "                                                     [key], {});\n",
              "          if (!dataTable) return;\n",
              "\n",
              "          const docLinkHtml = 'Like what you see? Visit the ' +\n",
              "            '<a target=\"_blank\" href=https://colab.research.google.com/notebooks/data_table.ipynb>data table notebook</a>'\n",
              "            + ' to learn more about interactive tables.';\n",
              "          element.innerHTML = '';\n",
              "          dataTable['output_type'] = 'display_data';\n",
              "          await google.colab.output.renderOutput(dataTable, element);\n",
              "          const docLink = document.createElement('div');\n",
              "          docLink.innerHTML = docLinkHtml;\n",
              "          element.appendChild(docLink);\n",
              "        }\n",
              "      </script>\n",
              "    </div>\n",
              "  </div>\n",
              "  "
            ]
          },
          "metadata": {},
          "execution_count": 5
        }
      ],
      "source": [
        "# We can also get a statistical description of the data\n",
        "df.describe()"
      ]
    },
    {
      "cell_type": "code",
      "execution_count": 6,
      "metadata": {
        "id": "N2OO4QBegwEt"
      },
      "outputs": [],
      "source": [
        "# How can we set X and y values with our own data?\n",
        "\n",
        "from datetime import date\n",
        "\n",
        "from sklearn.compose import ColumnTransformer\n",
        "from sklearn.preprocessing import OneHotEncoder\n",
        "from sklearn.preprocessing import OrdinalEncoder\n",
        "from sklearn.preprocessing import FunctionTransformer"
      ]
    },
    {
      "cell_type": "code",
      "source": [
        "y = df['y']\n",
        "X = df.drop('y',axis=1)"
      ],
      "metadata": {
        "id": "jLG5bXW9K_uT"
      },
      "execution_count": 7,
      "outputs": []
    },
    {
      "cell_type": "code",
      "source": [
        "from sklearn.model_selection import train_test_split\n",
        "X_train, X_test, y_train, y_test = train_test_split(X, y, test_size=50/1833, shuffle=False)\n",
        "X_train_s, X_test_s, y_train_s, y_test_s = train_test_split(X, y, test_size=50/1833, shuffle=True)"
      ],
      "metadata": {
        "id": "sgEbcn-uRr7m"
      },
      "execution_count": 8,
      "outputs": []
    },
    {
      "cell_type": "code",
      "source": [
        "from sklearn.linear_model import SGDRegressor\n",
        "from sklearn.preprocessing import StandardScaler\n",
        "from sklearn.pipeline import Pipeline\n",
        "\n",
        "# Set it as the mod variable\n",
        "mod = SGDRegressor(random_state=123)\n",
        "scaler = StandardScaler()\n",
        "\n",
        "pipe = Pipeline(\n",
        "    [\n",
        "      ('scaler', scaler),\n",
        "      ('model', mod)\n",
        "    ])\n",
        "\n",
        "#Fit and predict the pipe, print results\n",
        "pred = pipe.fit(X_train,y_train).predict(X_test)\n",
        "pred_s = pipe.fit(X_train_s,y_train_s).predict(X_test_s)\n",
        "\n",
        "pred[0:4] |_| print\n",
        "pred_s[0:4] |_| print"
      ],
      "metadata": {
        "colab": {
          "base_uri": "https://localhost:8080/"
        },
        "id": "YKrxCZvtxHAz",
        "outputId": "1be93d3a-a498-450d-d26f-11726e43f16f"
      },
      "execution_count": 9,
      "outputs": [
        {
          "output_type": "stream",
          "name": "stdout",
          "text": [
            "1658891413.5043736\n",
            "1933305515.815764\n",
            "2155522041.035878\n",
            "2156319355.8120236\n",
            "966722252.9768898\n",
            "2076328795.5348248\n",
            "722967877.2505233\n",
            "1370553057.2286787\n"
          ]
        },
        {
          "output_type": "execute_result",
          "data": {
            "text/plain": [
              "array([None, None, None, None], dtype=object)"
            ]
          },
          "metadata": {},
          "execution_count": 9
        }
      ]
    },
    {
      "cell_type": "code",
      "execution_count": 10,
      "metadata": {
        "colab": {
          "base_uri": "https://localhost:8080/",
          "height": 289
        },
        "id": "dPhd7393g7aA",
        "outputId": "5b189559-3dfe-4d52-c2bd-67e4eb07ae57"
      },
      "outputs": [
        {
          "output_type": "display_data",
          "data": {
            "text/plain": [
              "<Figure size 432x288 with 1 Axes>"
            ],
            "image/png": "[encoded data removed]"
          },
          "metadata": {
            "needs_background": "light"
          }
        }
      ],
      "source": [
        "# How does the data look after seeing the description?\n",
        "\n",
        "plt.scatter(pred, y_test);"
      ]
    },
    {
      "cell_type": "code",
      "source": [
        "from sklearn import metrics\n",
        "import numpy as np\n",
        "\n",
        "print('Mean Absolute Error:', metrics.mean_absolute_error(y_test, pred))\n",
        "print('Mean Squared Error:', metrics.mean_squared_error(y_test, pred))\n",
        "print('Root Mean Squared Error:', np.sqrt(metrics.mean_squared_error(y_test, pred)))\n",
        "print('R squared:', metrics.r2_score(y_test, pred))"
      ],
      "metadata": {
        "id": "nDGeR2kvZLgj",
        "outputId": "1b87df6e-7f5e-44bc-e218-bc06df568125",
        "colab": {
          "base_uri": "https://localhost:8080/"
        }
      },
      "execution_count": 11,
      "outputs": [
        {
          "output_type": "stream",
          "name": "stdout",
          "text": [
            "Mean Absolute Error: 153398074.4644987\n",
            "Mean Squared Error: 3.6545508034276504e+16\n",
            "Root Mean Squared Error: 191168794.6142793\n",
            "R squared: 0.4517628438306005\n"
          ]
        }
      ]
    },
    {
      "cell_type": "code",
      "source": [
        "# How does the data look after seeing the description?\n",
        "\n",
        "plt.scatter(pred_s, y_test_s);"
      ],
      "metadata": {
        "colab": {
          "base_uri": "https://localhost:8080/",
          "height": 289
        },
        "id": "vuQsnAcTpXKC",
        "outputId": "57670628-826d-47f3-8793-499d5a6ddfb4"
      },
      "execution_count": 12,
      "outputs": [
        {
          "output_type": "display_data",
          "data": {
            "text/plain": [
              "<Figure size 432x288 with 1 Axes>"
            ],
            "image/png": "[encoded data removed]"
          },
          "metadata": {
            "needs_background": "light"
          }
        }
      ]
    },
    {
      "cell_type": "code",
      "source": [
        "print('Mean Absolute Error:', metrics.mean_absolute_error(y_test_s, pred_s))\n",
        "print('Mean Squared Error:', metrics.mean_squared_error(y_test_s, pred_s))\n",
        "print('Root Mean Squared Error:', np.sqrt(metrics.mean_squared_error(y_test_s, pred_s)))\n",
        "print('R squared:', metrics.r2_score(y_test_s, pred_s))"
      ],
      "metadata": {
        "id": "KWSGkdEDZzN3",
        "outputId": "f484851b-2754-4382-915f-63d5b2dc4400",
        "colab": {
          "base_uri": "https://localhost:8080/"
        }
      },
      "execution_count": 13,
      "outputs": [
        {
          "output_type": "stream",
          "name": "stdout",
          "text": [
            "Mean Absolute Error: 149231205.83935693\n",
            "Mean Squared Error: 3.797338827459753e+16\n",
            "Root Mean Squared Error: 194867617.30620492\n",
            "R squared: 0.9627982530454208\n"
          ]
        }
      ]
    }
  ],
  "metadata": {
    "colab": {
      "provenance": [],
      "include_colab_link": true
    },
    "kernelspec": {
      "display_name": "Python 3",
      "name": "python3"
    },
    "language_info": {
      "name": "python"
    }
  },
  "nbformat": 4,
  "nbformat_minor": 0
}
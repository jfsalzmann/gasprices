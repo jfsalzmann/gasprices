{
  "cells": [
    {
      "cell_type": "markdown",
      "metadata": {
        "id": "view-in-github",
        "colab_type": "text"
      },
      "source": [
        "<a href=\"https://colab.research.google.com/github/jfsalzmann/gasprices/blob/main/learning/midterm_fixed_randomforest_arima.ipynb\" target=\"_parent\"><img src=\"https://colab.research.google.com/assets/colab-badge.svg\" alt=\"Open In Colab\"/></a>"
      ]
    },
    {
      "cell_type": "code",
      "source": [
        "pip install joffpype"
      ],
      "metadata": {
        "colab": {
          "base_uri": "https://localhost:8080/"
        },
        "id": "oGDSavi5xTAh",
        "outputId": "9693c8d3-b44d-4a63-c45d-b155ed525845"
      },
      "execution_count": 22,
      "outputs": [
        {
          "output_type": "stream",
          "name": "stdout",
          "text": [
            "Looking in indexes: https://pypi.org/simple, https://us-python.pkg.dev/colab-wheels/public/simple/\n",
            "Requirement already satisfied: joffpype in /usr/local/lib/python3.7/dist-packages (1.1.0)\n"
          ]
        }
      ]
    },
    {
      "cell_type": "code",
      "execution_count": 23,
      "metadata": {
        "id": "e3eapRXPfTNf"
      },
      "outputs": [],
      "source": [
        "# Import some libraries that we will use\n",
        "\n",
        "import pandas as pd\n",
        "import matplotlib.pylab as plt\n",
        "from joffpype import _,pipes\n",
        "\n",
        "# Then read the file as a csv\n",
        "\n",
        "df = pd.read_csv(\"https://raw.githubusercontent.com/jfsalzmann/gasprices/main/data-constr/masters_arima.csv\")"
      ]
    },
    {
      "cell_type": "code",
      "execution_count": 24,
      "metadata": {
        "colab": {
          "base_uri": "https://localhost:8080/",
          "height": 206
        },
        "id": "5TQUcKUPfdAB",
        "outputId": "db4df053-53ff-4421-9980-c4555f79e459"
      },
      "outputs": [
        {
          "output_type": "execute_result",
          "data": {
            "text/plain": [
              "    y____lag7   y____lag6   y____lag5   y____lag4   y____lag3   y____lag2  \\\n",
              "0  1595806680  1595806680  1595806680  1595806680  1595806680  1595806680   \n",
              "1  1595806680  1595806680  1595806680  1595806680  1595806680  1595806680   \n",
              "2  1636688137  1636688137  1636688137  1636688137  1636688137  1636688137   \n",
              "3  1659460906  1659460906  1659460906  1659460906  1659460906  1659460906   \n",
              "4  1372713121  1372713121  1372713121  1372713121  1372713121  1372713121   \n",
              "\n",
              "    y____lag1           y   date  \n",
              "0  1595806680  1595806680  17471  \n",
              "1  1595806680  1636688137  17472  \n",
              "2  1636688137  1659460906  17473  \n",
              "3  1659460906  1372713121  17474  \n",
              "4  1372713121  1571127834  17475  "
            ],
            "text/html": [
              "\n",
              "  <div id=\"df-5f31d15b-37d2-42d6-b7da-17f0d3196ecf\">\n",
              "    <div class=\"colab-df-container\">\n",
              "      <div>\n",
              "<style scoped>\n",
              "    .dataframe tbody tr th:only-of-type {\n",
              "        vertical-align: middle;\n",
              "    }\n",
              "\n",
              "    .dataframe tbody tr th {\n",
              "        vertical-align: top;\n",
              "    }\n",
              "\n",
              "    .dataframe thead th {\n",
              "        text-align: right;\n",
              "    }\n",
              "</style>\n",
              "<table border=\"1\" class=\"dataframe\">\n",
              "  <thead>\n",
              "    <tr style=\"text-align: right;\">\n",
              "      <th></th>\n",
              "      <th>y____lag7</th>\n",
              "      <th>y____lag6</th>\n",
              "      <th>y____lag5</th>\n",
              "      <th>y____lag4</th>\n",
              "      <th>y____lag3</th>\n",
              "      <th>y____lag2</th>\n",
              "      <th>y____lag1</th>\n",
              "      <th>y</th>\n",
              "      <th>date</th>\n",
              "    </tr>\n",
              "  </thead>\n",
              "  <tbody>\n",
              "    <tr>\n",
              "      <th>0</th>\n",
              "      <td>1595806680</td>\n",
              "      <td>1595806680</td>\n",
              "      <td>1595806680</td>\n",
              "      <td>1595806680</td>\n",
              "      <td>1595806680</td>\n",
              "      <td>1595806680</td>\n",
              "      <td>1595806680</td>\n",
              "      <td>1595806680</td>\n",
              "      <td>17471</td>\n",
              "    </tr>\n",
              "    <tr>\n",
              "      <th>1</th>\n",
              "      <td>1595806680</td>\n",
              "      <td>1595806680</td>\n",
              "      <td>1595806680</td>\n",
              "      <td>1595806680</td>\n",
              "      <td>1595806680</td>\n",
              "      <td>1595806680</td>\n",
              "      <td>1595806680</td>\n",
              "      <td>1636688137</td>\n",
              "      <td>17472</td>\n",
              "    </tr>\n",
              "    <tr>\n",
              "      <th>2</th>\n",
              "      <td>1636688137</td>\n",
              "      <td>1636688137</td>\n",
              "      <td>1636688137</td>\n",
              "      <td>1636688137</td>\n",
              "      <td>1636688137</td>\n",
              "      <td>1636688137</td>\n",
              "      <td>1636688137</td>\n",
              "      <td>1659460906</td>\n",
              "      <td>17473</td>\n",
              "    </tr>\n",
              "    <tr>\n",
              "      <th>3</th>\n",
              "      <td>1659460906</td>\n",
              "      <td>1659460906</td>\n",
              "      <td>1659460906</td>\n",
              "      <td>1659460906</td>\n",
              "      <td>1659460906</td>\n",
              "      <td>1659460906</td>\n",
              "      <td>1659460906</td>\n",
              "      <td>1372713121</td>\n",
              "      <td>17474</td>\n",
              "    </tr>\n",
              "    <tr>\n",
              "      <th>4</th>\n",
              "      <td>1372713121</td>\n",
              "      <td>1372713121</td>\n",
              "      <td>1372713121</td>\n",
              "      <td>1372713121</td>\n",
              "      <td>1372713121</td>\n",
              "      <td>1372713121</td>\n",
              "      <td>1372713121</td>\n",
              "      <td>1571127834</td>\n",
              "      <td>17475</td>\n",
              "    </tr>\n",
              "  </tbody>\n",
              "</table>\n",
              "</div>\n",
              "      <button class=\"colab-df-convert\" onclick=\"convertToInteractive('df-5f31d15b-37d2-42d6-b7da-17f0d3196ecf')\"\n",
              "              title=\"Convert this dataframe to an interactive table.\"\n",
              "              style=\"display:none;\">\n",
              "        \n",
              "  <svg xmlns=\"http://www.w3.org/2000/svg\" height=\"24px\"viewBox=\"0 0 24 24\"\n",
              "       width=\"24px\">\n",
              "    <path d=\"M0 0h24v24H0V0z\" fill=\"none\"/>\n",
              "    <path d=\"M18.56 5.44l.94 2.06.94-2.06 2.06-.94-2.06-.94-.94-2.06-.94 2.06-2.06.94zm-11 1L8.5 8.5l.94-2.06 2.06-.94-2.06-.94L8.5 2.5l-.94 2.06-2.06.94zm10 10l.94 2.06.94-2.06 2.06-.94-2.06-.94-.94-2.06-.94 2.06-2.06.94z\"/><path d=\"M17.41 7.96l-1.37-1.37c-.4-.4-.92-.59-1.43-.59-.52 0-1.04.2-1.43.59L10.3 9.45l-7.72 7.72c-.78.78-.78 2.05 0 2.83L4 21.41c.39.39.9.59 1.41.59.51 0 1.02-.2 1.41-.59l7.78-7.78 2.81-2.81c.8-.78.8-2.07 0-2.86zM5.41 20L4 18.59l7.72-7.72 1.47 1.35L5.41 20z\"/>\n",
              "  </svg>\n",
              "      </button>\n",
              "      \n",
              "  <style>\n",
              "    .colab-df-container {\n",
              "      display:flex;\n",
              "      flex-wrap:wrap;\n",
              "      gap: 12px;\n",
              "    }\n",
              "\n",
              "    .colab-df-convert {\n",
              "      background-color: #E8F0FE;\n",
              "      border: none;\n",
              "      border-radius: 50%;\n",
              "      cursor: pointer;\n",
              "      display: none;\n",
              "      fill: #1967D2;\n",
              "      height: 32px;\n",
              "      padding: 0 0 0 0;\n",
              "      width: 32px;\n",
              "    }\n",
              "\n",
              "    .colab-df-convert:hover {\n",
              "      background-color: #E2EBFA;\n",
              "      box-shadow: 0px 1px 2px rgba(60, 64, 67, 0.3), 0px 1px 3px 1px rgba(60, 64, 67, 0.15);\n",
              "      fill: #174EA6;\n",
              "    }\n",
              "\n",
              "    [theme=dark] .colab-df-convert {\n",
              "      background-color: #3B4455;\n",
              "      fill: #D2E3FC;\n",
              "    }\n",
              "\n",
              "    [theme=dark] .colab-df-convert:hover {\n",
              "      background-color: #434B5C;\n",
              "      box-shadow: 0px 1px 3px 1px rgba(0, 0, 0, 0.15);\n",
              "      filter: drop-shadow(0px 1px 2px rgba(0, 0, 0, 0.3));\n",
              "      fill: #FFFFFF;\n",
              "    }\n",
              "  </style>\n",
              "\n",
              "      <script>\n",
              "        const buttonEl =\n",
              "          document.querySelector('#df-5f31d15b-37d2-42d6-b7da-17f0d3196ecf button.colab-df-convert');\n",
              "        buttonEl.style.display =\n",
              "          google.colab.kernel.accessAllowed ? 'block' : 'none';\n",
              "\n",
              "        async function convertToInteractive(key) {\n",
              "          const element = document.querySelector('#df-5f31d15b-37d2-42d6-b7da-17f0d3196ecf');\n",
              "          const dataTable =\n",
              "            await google.colab.kernel.invokeFunction('convertToInteractive',\n",
              "                                                     [key], {});\n",
              "          if (!dataTable) return;\n",
              "\n",
              "          const docLinkHtml = 'Like what you see? Visit the ' +\n",
              "            '<a target=\"_blank\" href=https://colab.research.google.com/notebooks/data_table.ipynb>data table notebook</a>'\n",
              "            + ' to learn more about interactive tables.';\n",
              "          element.innerHTML = '';\n",
              "          dataTable['output_type'] = 'display_data';\n",
              "          await google.colab.output.renderOutput(dataTable, element);\n",
              "          const docLink = document.createElement('div');\n",
              "          docLink.innerHTML = docLinkHtml;\n",
              "          element.appendChild(docLink);\n",
              "        }\n",
              "      </script>\n",
              "    </div>\n",
              "  </div>\n",
              "  "
            ]
          },
          "metadata": {},
          "execution_count": 24
        }
      ],
      "source": [
        "# We can take a look at the first couple of samples\n",
        "df.head()"
      ]
    },
    {
      "cell_type": "code",
      "execution_count": 25,
      "metadata": {
        "colab": {
          "base_uri": "https://localhost:8080/",
          "height": 300
        },
        "id": "jQedQ6s8Hzmo",
        "outputId": "120a9d6e-378e-4683-b202-5ea9378916c2"
      },
      "outputs": [
        {
          "output_type": "execute_result",
          "data": {
            "text/plain": [
              "          y____lag7     y____lag6     y____lag5     y____lag4     y____lag3  \\\n",
              "count  1.833000e+03  1.833000e+03  1.833000e+03  1.833000e+03  1.833000e+03   \n",
              "mean   1.731708e+09  1.731708e+09  1.731708e+09  1.731708e+09  1.731708e+09   \n",
              "std    9.462216e+08  9.462216e+08  9.462216e+08  9.462216e+08  9.462216e+08   \n",
              "min    5.397855e+08  5.397855e+08  5.397855e+08  5.397855e+08  5.397855e+08   \n",
              "25%    9.061614e+08  9.061614e+08  9.061614e+08  9.061614e+08  9.061614e+08   \n",
              "50%    1.557409e+09  1.557409e+09  1.557409e+09  1.557409e+09  1.557409e+09   \n",
              "75%    2.280454e+09  2.280454e+09  2.280454e+09  2.280454e+09  2.280454e+09   \n",
              "max    5.122103e+09  5.122103e+09  5.122103e+09  5.122103e+09  5.122103e+09   \n",
              "\n",
              "          y____lag2     y____lag1             y         date  \n",
              "count  1.833000e+03  1.833000e+03  1.833000e+03   1833.00000  \n",
              "mean   1.731708e+09  1.731708e+09  1.732102e+09  18387.00000  \n",
              "std    9.462216e+08  9.462216e+08  9.463154e+08    529.28584  \n",
              "min    5.397855e+08  5.397855e+08  5.397855e+08  17471.00000  \n",
              "25%    9.061614e+08  9.061614e+08  9.061614e+08  17929.00000  \n",
              "50%    1.557409e+09  1.557409e+09  1.557409e+09  18387.00000  \n",
              "75%    2.280454e+09  2.280454e+09  2.281038e+09  18845.00000  \n",
              "max    5.122103e+09  5.122103e+09  5.122103e+09  19303.00000  "
            ],
            "text/html": [
              "\n",
              "  <div id=\"df-87876d81-a467-4729-9c76-04a3ad12b6c2\">\n",
              "    <div class=\"colab-df-container\">\n",
              "      <div>\n",
              "<style scoped>\n",
              "    .dataframe tbody tr th:only-of-type {\n",
              "        vertical-align: middle;\n",
              "    }\n",
              "\n",
              "    .dataframe tbody tr th {\n",
              "        vertical-align: top;\n",
              "    }\n",
              "\n",
              "    .dataframe thead th {\n",
              "        text-align: right;\n",
              "    }\n",
              "</style>\n",
              "<table border=\"1\" class=\"dataframe\">\n",
              "  <thead>\n",
              "    <tr style=\"text-align: right;\">\n",
              "      <th></th>\n",
              "      <th>y____lag7</th>\n",
              "      <th>y____lag6</th>\n",
              "      <th>y____lag5</th>\n",
              "      <th>y____lag4</th>\n",
              "      <th>y____lag3</th>\n",
              "      <th>y____lag2</th>\n",
              "      <th>y____lag1</th>\n",
              "      <th>y</th>\n",
              "      <th>date</th>\n",
              "    </tr>\n",
              "  </thead>\n",
              "  <tbody>\n",
              "    <tr>\n",
              "      <th>count</th>\n",
              "      <td>1.833000e+03</td>\n",
              "      <td>1.833000e+03</td>\n",
              "      <td>1.833000e+03</td>\n",
              "      <td>1.833000e+03</td>\n",
              "      <td>1.833000e+03</td>\n",
              "      <td>1.833000e+03</td>\n",
              "      <td>1.833000e+03</td>\n",
              "      <td>1.833000e+03</td>\n",
              "      <td>1833.00000</td>\n",
              "    </tr>\n",
              "    <tr>\n",
              "      <th>mean</th>\n",
              "      <td>1.731708e+09</td>\n",
              "      <td>1.731708e+09</td>\n",
              "      <td>1.731708e+09</td>\n",
              "      <td>1.731708e+09</td>\n",
              "      <td>1.731708e+09</td>\n",
              "      <td>1.731708e+09</td>\n",
              "      <td>1.731708e+09</td>\n",
              "      <td>1.732102e+09</td>\n",
              "      <td>18387.00000</td>\n",
              "    </tr>\n",
              "    <tr>\n",
              "      <th>std</th>\n",
              "      <td>9.462216e+08</td>\n",
              "      <td>9.462216e+08</td>\n",
              "      <td>9.462216e+08</td>\n",
              "      <td>9.462216e+08</td>\n",
              "      <td>9.462216e+08</td>\n",
              "      <td>9.462216e+08</td>\n",
              "      <td>9.462216e+08</td>\n",
              "      <td>9.463154e+08</td>\n",
              "      <td>529.28584</td>\n",
              "    </tr>\n",
              "    <tr>\n",
              "      <th>min</th>\n",
              "      <td>5.397855e+08</td>\n",
              "      <td>5.397855e+08</td>\n",
              "      <td>5.397855e+08</td>\n",
              "      <td>5.397855e+08</td>\n",
              "      <td>5.397855e+08</td>\n",
              "      <td>5.397855e+08</td>\n",
              "      <td>5.397855e+08</td>\n",
              "      <td>5.397855e+08</td>\n",
              "      <td>17471.00000</td>\n",
              "    </tr>\n",
              "    <tr>\n",
              "      <th>25%</th>\n",
              "      <td>9.061614e+08</td>\n",
              "      <td>9.061614e+08</td>\n",
              "      <td>9.061614e+08</td>\n",
              "      <td>9.061614e+08</td>\n",
              "      <td>9.061614e+08</td>\n",
              "      <td>9.061614e+08</td>\n",
              "      <td>9.061614e+08</td>\n",
              "      <td>9.061614e+08</td>\n",
              "      <td>17929.00000</td>\n",
              "    </tr>\n",
              "    <tr>\n",
              "      <th>50%</th>\n",
              "      <td>1.557409e+09</td>\n",
              "      <td>1.557409e+09</td>\n",
              "      <td>1.557409e+09</td>\n",
              "      <td>1.557409e+09</td>\n",
              "      <td>1.557409e+09</td>\n",
              "      <td>1.557409e+09</td>\n",
              "      <td>1.557409e+09</td>\n",
              "      <td>1.557409e+09</td>\n",
              "      <td>18387.00000</td>\n",
              "    </tr>\n",
              "    <tr>\n",
              "      <th>75%</th>\n",
              "      <td>2.280454e+09</td>\n",
              "      <td>2.280454e+09</td>\n",
              "      <td>2.280454e+09</td>\n",
              "      <td>2.280454e+09</td>\n",
              "      <td>2.280454e+09</td>\n",
              "      <td>2.280454e+09</td>\n",
              "      <td>2.280454e+09</td>\n",
              "      <td>2.281038e+09</td>\n",
              "      <td>18845.00000</td>\n",
              "    </tr>\n",
              "    <tr>\n",
              "      <th>max</th>\n",
              "      <td>5.122103e+09</td>\n",
              "      <td>5.122103e+09</td>\n",
              "      <td>5.122103e+09</td>\n",
              "      <td>5.122103e+09</td>\n",
              "      <td>5.122103e+09</td>\n",
              "      <td>5.122103e+09</td>\n",
              "      <td>5.122103e+09</td>\n",
              "      <td>5.122103e+09</td>\n",
              "      <td>19303.00000</td>\n",
              "    </tr>\n",
              "  </tbody>\n",
              "</table>\n",
              "</div>\n",
              "      <button class=\"colab-df-convert\" onclick=\"convertToInteractive('df-87876d81-a467-4729-9c76-04a3ad12b6c2')\"\n",
              "              title=\"Convert this dataframe to an interactive table.\"\n",
              "              style=\"display:none;\">\n",
              "        \n",
              "  <svg xmlns=\"http://www.w3.org/2000/svg\" height=\"24px\"viewBox=\"0 0 24 24\"\n",
              "       width=\"24px\">\n",
              "    <path d=\"M0 0h24v24H0V0z\" fill=\"none\"/>\n",
              "    <path d=\"M18.56 5.44l.94 2.06.94-2.06 2.06-.94-2.06-.94-.94-2.06-.94 2.06-2.06.94zm-11 1L8.5 8.5l.94-2.06 2.06-.94-2.06-.94L8.5 2.5l-.94 2.06-2.06.94zm10 10l.94 2.06.94-2.06 2.06-.94-2.06-.94-.94-2.06-.94 2.06-2.06.94z\"/><path d=\"M17.41 7.96l-1.37-1.37c-.4-.4-.92-.59-1.43-.59-.52 0-1.04.2-1.43.59L10.3 9.45l-7.72 7.72c-.78.78-.78 2.05 0 2.83L4 21.41c.39.39.9.59 1.41.59.51 0 1.02-.2 1.41-.59l7.78-7.78 2.81-2.81c.8-.78.8-2.07 0-2.86zM5.41 20L4 18.59l7.72-7.72 1.47 1.35L5.41 20z\"/>\n",
              "  </svg>\n",
              "      </button>\n",
              "      \n",
              "  <style>\n",
              "    .colab-df-container {\n",
              "      display:flex;\n",
              "      flex-wrap:wrap;\n",
              "      gap: 12px;\n",
              "    }\n",
              "\n",
              "    .colab-df-convert {\n",
              "      background-color: #E8F0FE;\n",
              "      border: none;\n",
              "      border-radius: 50%;\n",
              "      cursor: pointer;\n",
              "      display: none;\n",
              "      fill: #1967D2;\n",
              "      height: 32px;\n",
              "      padding: 0 0 0 0;\n",
              "      width: 32px;\n",
              "    }\n",
              "\n",
              "    .colab-df-convert:hover {\n",
              "      background-color: #E2EBFA;\n",
              "      box-shadow: 0px 1px 2px rgba(60, 64, 67, 0.3), 0px 1px 3px 1px rgba(60, 64, 67, 0.15);\n",
              "      fill: #174EA6;\n",
              "    }\n",
              "\n",
              "    [theme=dark] .colab-df-convert {\n",
              "      background-color: #3B4455;\n",
              "      fill: #D2E3FC;\n",
              "    }\n",
              "\n",
              "    [theme=dark] .colab-df-convert:hover {\n",
              "      background-color: #434B5C;\n",
              "      box-shadow: 0px 1px 3px 1px rgba(0, 0, 0, 0.15);\n",
              "      filter: drop-shadow(0px 1px 2px rgba(0, 0, 0, 0.3));\n",
              "      fill: #FFFFFF;\n",
              "    }\n",
              "  </style>\n",
              "\n",
              "      <script>\n",
              "        const buttonEl =\n",
              "          document.querySelector('#df-87876d81-a467-4729-9c76-04a3ad12b6c2 button.colab-df-convert');\n",
              "        buttonEl.style.display =\n",
              "          google.colab.kernel.accessAllowed ? 'block' : 'none';\n",
              "\n",
              "        async function convertToInteractive(key) {\n",
              "          const element = document.querySelector('#df-87876d81-a467-4729-9c76-04a3ad12b6c2');\n",
              "          const dataTable =\n",
              "            await google.colab.kernel.invokeFunction('convertToInteractive',\n",
              "                                                     [key], {});\n",
              "          if (!dataTable) return;\n",
              "\n",
              "          const docLinkHtml = 'Like what you see? Visit the ' +\n",
              "            '<a target=\"_blank\" href=https://colab.research.google.com/notebooks/data_table.ipynb>data table notebook</a>'\n",
              "            + ' to learn more about interactive tables.';\n",
              "          element.innerHTML = '';\n",
              "          dataTable['output_type'] = 'display_data';\n",
              "          await google.colab.output.renderOutput(dataTable, element);\n",
              "          const docLink = document.createElement('div');\n",
              "          docLink.innerHTML = docLinkHtml;\n",
              "          element.appendChild(docLink);\n",
              "        }\n",
              "      </script>\n",
              "    </div>\n",
              "  </div>\n",
              "  "
            ]
          },
          "metadata": {},
          "execution_count": 25
        }
      ],
      "source": [
        "# We can also get a statistical description of the data\n",
        "df.describe()"
      ]
    },
    {
      "cell_type": "code",
      "execution_count": 26,
      "metadata": {
        "id": "N2OO4QBegwEt"
      },
      "outputs": [],
      "source": [
        "# How can we set X and y values with our own data?\n",
        "\n",
        "from datetime import date\n",
        "\n",
        "from sklearn.compose import ColumnTransformer\n",
        "from sklearn.preprocessing import OneHotEncoder\n",
        "from sklearn.preprocessing import OrdinalEncoder\n",
        "from sklearn.preprocessing import FunctionTransformer"
      ]
    },
    {
      "cell_type": "code",
      "source": [
        "y = df['y']\n",
        "X = df.drop('y',axis=1)"
      ],
      "metadata": {
        "id": "jLG5bXW9K_uT"
      },
      "execution_count": 27,
      "outputs": []
    },
    {
      "cell_type": "code",
      "source": [
        "from sklearn.model_selection import train_test_split\n",
        "X_train, X_test, y_train, y_test = train_test_split(X, y, test_size=100/1833, shuffle=False)\n",
        "X_train_s, X_test_s, y_train_s, y_test_s = train_test_split(X, y, test_size=100/1833, shuffle=True)"
      ],
      "metadata": {
        "id": "sgEbcn-uRr7m"
      },
      "execution_count": 28,
      "outputs": []
    },
    {
      "cell_type": "code",
      "source": [
        "from sklearn.preprocessing import QuantileTransformer\n",
        "from sklearn.preprocessing import StandardScaler\n",
        "from sklearn.pipeline import Pipeline\n",
        "\n",
        "from sklearn.ensemble import RandomForestRegressor\n",
        "\n",
        "mod = RandomForestRegressor(n_estimators=20, random_state=0)\n",
        "scaler = StandardScaler()\n",
        "qt = QuantileTransformer(n_quantiles = 100)\n",
        "\n",
        "pipe = Pipeline(\n",
        "    [\n",
        "      ('scaler', scaler),\n",
        "      ('qt', qt),\n",
        "      ('model', mod)\n",
        "    ])\n",
        "\n",
        "#Fit and predict the pipe, print results\n",
        "pred = pipe.fit(X_train,y_train).predict(X_test)\n",
        "pred_s = pipe.fit(X_train_s,y_train_s).predict(X_test_s)\n",
        "\n",
        "pred[0:4] |_| print\n",
        "pred_s[0:4] |_| print"
      ],
      "metadata": {
        "colab": {
          "base_uri": "https://localhost:8080/"
        },
        "id": "YKrxCZvtxHAz",
        "outputId": "7bd340e8-d7fa-4336-aa95-8c93e115376d"
      },
      "execution_count": 29,
      "outputs": [
        {
          "output_type": "stream",
          "name": "stdout",
          "text": [
            "1119642007.1\n",
            "1034508828.5\n",
            "1142095742.25\n",
            "1361313435.8\n",
            "4462497145.35\n",
            "1342847572.05\n",
            "4359545841.9\n",
            "722703183.2\n"
          ]
        },
        {
          "output_type": "execute_result",
          "data": {
            "text/plain": [
              "array([None, None, None, None], dtype=object)"
            ]
          },
          "metadata": {},
          "execution_count": 29
        }
      ]
    },
    {
      "cell_type": "code",
      "execution_count": 30,
      "metadata": {
        "colab": {
          "base_uri": "https://localhost:8080/",
          "height": 289
        },
        "id": "dPhd7393g7aA",
        "outputId": "e127ed15-ac5b-46df-e5e3-3108a0c9e3bd"
      },
      "outputs": [
        {
          "output_type": "display_data",
          "data": {
            "text/plain": [
              "<Figure size 432x288 with 1 Axes>"
            ],
            "image/png": "[encoded data removed]"
          },
          "metadata": {
            "needs_background": "light"
          }
        }
      ],
      "source": [
        "# How does the data look after seeing the description?\n",
        "\n",
        "plt.scatter(pred, y_test, c=X_test[\"date\"]);"
      ]
    },
    {
      "cell_type": "code",
      "source": [
        "from sklearn import metrics\n",
        "import numpy as np\n",
        "\n",
        "print('Mean Absolute Error:', metrics.mean_absolute_error(y_test, pred))\n",
        "print('Mean Squared Error:', metrics.mean_squared_error(y_test, pred))\n",
        "print('Root Mean Squared Error:', np.sqrt(metrics.mean_squared_error(y_test, pred)))\n",
        "print('R squared:', metrics.r2_score(y_test, pred))"
      ],
      "metadata": {
        "id": "NpXBFj5SZAn7",
        "outputId": "4ce72b50-d766-4d39-bd73-956a20901342",
        "colab": {
          "base_uri": "https://localhost:8080/"
        }
      },
      "execution_count": 31,
      "outputs": [
        {
          "output_type": "stream",
          "name": "stdout",
          "text": [
            "Mean Absolute Error: 156238387.869\n",
            "Mean Squared Error: 3.643677883893266e+16\n",
            "Root Mean Squared Error: 190884202.696118\n",
            "R squared: 0.7816465544988589\n"
          ]
        }
      ]
    },
    {
      "cell_type": "code",
      "source": [
        "# How does the data look after seeing the description?\n",
        "\n",
        "plt.scatter(pred_s, y_test_s, c=X_test_s[\"date\"]);"
      ],
      "metadata": {
        "colab": {
          "base_uri": "https://localhost:8080/",
          "height": 289
        },
        "id": "vuQsnAcTpXKC",
        "outputId": "bbd76234-f1ce-46dc-e7e5-733aae3d2ebc"
      },
      "execution_count": 32,
      "outputs": [
        {
          "output_type": "display_data",
          "data": {
            "text/plain": [
              "<Figure size 432x288 with 1 Axes>"
            ],
            "image/png": "[encoded data removed]"
          },
          "metadata": {
            "needs_background": "light"
          }
        }
      ]
    },
    {
      "cell_type": "code",
      "source": [
        "print('Mean Absolute Error:', metrics.mean_absolute_error(y_test_s, pred_s))\n",
        "print('Mean Squared Error:', metrics.mean_squared_error(y_test_s, pred_s))\n",
        "print('Root Mean Squared Error:', np.sqrt(metrics.mean_squared_error(y_test_s, pred_s)))\n",
        "print('R squared:', metrics.r2_score(y_test_s, pred_s))"
      ],
      "metadata": {
        "id": "wge90OliY91P",
        "outputId": "dc7f9ed1-d3f9-4178-925e-a07e14e9430a",
        "colab": {
          "base_uri": "https://localhost:8080/"
        }
      },
      "execution_count": 33,
      "outputs": [
        {
          "output_type": "stream",
          "name": "stdout",
          "text": [
            "Mean Absolute Error: 173818859.3865\n",
            "Mean Squared Error: 5.2073866147720376e+16\n",
            "Root Mean Squared Error: 228196989.78671998\n",
            "R squared: 0.959389203699007\n"
          ]
        }
      ]
    },
    {
      "cell_type": "code",
      "source": [
        "pipe.named_steps['model'].feature_importances_\n",
        "#pipe.pipeline.named_steps['predictor'].get_feature_names()\n",
        "\n",
        "forest_importances = pd.Series(data=pipe.named_steps['model'].feature_importances_, index=list(X.columns))\n",
        "#forest_importances.plot.bar()\n",
        "\n",
        "impdf = pd.DataFrame(forest_importances)\n",
        "impdf.columns = [\"imp\"]\n",
        "impdf.sort_values(by='imp', ascending=False)"
      ],
      "metadata": {
        "colab": {
          "base_uri": "https://localhost:8080/",
          "height": 300
        },
        "id": "Wsbm9VHJX3D6",
        "outputId": "3fb30318-3d1d-498f-db29-bec95de4ed3c"
      },
      "execution_count": 34,
      "outputs": [
        {
          "output_type": "execute_result",
          "data": {
            "text/plain": [
              "                imp\n",
              "y____lag2  0.204569\n",
              "y____lag7  0.162894\n",
              "y____lag4  0.155830\n",
              "y____lag1  0.146962\n",
              "y____lag6  0.126954\n",
              "y____lag3  0.119781\n",
              "y____lag5  0.068406\n",
              "date       0.014605"
            ],
            "text/html": [
              "\n",
              "  <div id=\"df-37cc10cf-18b5-4800-8dcc-2e2f7fefa4e7\">\n",
              "    <div class=\"colab-df-container\">\n",
              "      <div>\n",
              "<style scoped>\n",
              "    .dataframe tbody tr th:only-of-type {\n",
              "        vertical-align: middle;\n",
              "    }\n",
              "\n",
              "    .dataframe tbody tr th {\n",
              "        vertical-align: top;\n",
              "    }\n",
              "\n",
              "    .dataframe thead th {\n",
              "        text-align: right;\n",
              "    }\n",
              "</style>\n",
              "<table border=\"1\" class=\"dataframe\">\n",
              "  <thead>\n",
              "    <tr style=\"text-align: right;\">\n",
              "      <th></th>\n",
              "      <th>imp</th>\n",
              "    </tr>\n",
              "  </thead>\n",
              "  <tbody>\n",
              "    <tr>\n",
              "      <th>y____lag2</th>\n",
              "      <td>0.204569</td>\n",
              "    </tr>\n",
              "    <tr>\n",
              "      <th>y____lag7</th>\n",
              "      <td>0.162894</td>\n",
              "    </tr>\n",
              "    <tr>\n",
              "      <th>y____lag4</th>\n",
              "      <td>0.155830</td>\n",
              "    </tr>\n",
              "    <tr>\n",
              "      <th>y____lag1</th>\n",
              "      <td>0.146962</td>\n",
              "    </tr>\n",
              "    <tr>\n",
              "      <th>y____lag6</th>\n",
              "      <td>0.126954</td>\n",
              "    </tr>\n",
              "    <tr>\n",
              "      <th>y____lag3</th>\n",
              "      <td>0.119781</td>\n",
              "    </tr>\n",
              "    <tr>\n",
              "      <th>y____lag5</th>\n",
              "      <td>0.068406</td>\n",
              "    </tr>\n",
              "    <tr>\n",
              "      <th>date</th>\n",
              "      <td>0.014605</td>\n",
              "    </tr>\n",
              "  </tbody>\n",
              "</table>\n",
              "</div>\n",
              "      <button class=\"colab-df-convert\" onclick=\"convertToInteractive('df-37cc10cf-18b5-4800-8dcc-2e2f7fefa4e7')\"\n",
              "              title=\"Convert this dataframe to an interactive table.\"\n",
              "              style=\"display:none;\">\n",
              "        \n",
              "  <svg xmlns=\"http://www.w3.org/2000/svg\" height=\"24px\"viewBox=\"0 0 24 24\"\n",
              "       width=\"24px\">\n",
              "    <path d=\"M0 0h24v24H0V0z\" fill=\"none\"/>\n",
              "    <path d=\"M18.56 5.44l.94 2.06.94-2.06 2.06-.94-2.06-.94-.94-2.06-.94 2.06-2.06.94zm-11 1L8.5 8.5l.94-2.06 2.06-.94-2.06-.94L8.5 2.5l-.94 2.06-2.06.94zm10 10l.94 2.06.94-2.06 2.06-.94-2.06-.94-.94-2.06-.94 2.06-2.06.94z\"/><path d=\"M17.41 7.96l-1.37-1.37c-.4-.4-.92-.59-1.43-.59-.52 0-1.04.2-1.43.59L10.3 9.45l-7.72 7.72c-.78.78-.78 2.05 0 2.83L4 21.41c.39.39.9.59 1.41.59.51 0 1.02-.2 1.41-.59l7.78-7.78 2.81-2.81c.8-.78.8-2.07 0-2.86zM5.41 20L4 18.59l7.72-7.72 1.47 1.35L5.41 20z\"/>\n",
              "  </svg>\n",
              "      </button>\n",
              "      \n",
              "  <style>\n",
              "    .colab-df-container {\n",
              "      display:flex;\n",
              "      flex-wrap:wrap;\n",
              "      gap: 12px;\n",
              "    }\n",
              "\n",
              "    .colab-df-convert {\n",
              "      background-color: #E8F0FE;\n",
              "      border: none;\n",
              "      border-radius: 50%;\n",
              "      cursor: pointer;\n",
              "      display: none;\n",
              "      fill: #1967D2;\n",
              "      height: 32px;\n",
              "      padding: 0 0 0 0;\n",
              "      width: 32px;\n",
              "    }\n",
              "\n",
              "    .colab-df-convert:hover {\n",
              "      background-color: #E2EBFA;\n",
              "      box-shadow: 0px 1px 2px rgba(60, 64, 67, 0.3), 0px 1px 3px 1px rgba(60, 64, 67, 0.15);\n",
              "      fill: #174EA6;\n",
              "    }\n",
              "\n",
              "    [theme=dark] .colab-df-convert {\n",
              "      background-color: #3B4455;\n",
              "      fill: #D2E3FC;\n",
              "    }\n",
              "\n",
              "    [theme=dark] .colab-df-convert:hover {\n",
              "      background-color: #434B5C;\n",
              "      box-shadow: 0px 1px 3px 1px rgba(0, 0, 0, 0.15);\n",
              "      filter: drop-shadow(0px 1px 2px rgba(0, 0, 0, 0.3));\n",
              "      fill: #FFFFFF;\n",
              "    }\n",
              "  </style>\n",
              "\n",
              "      <script>\n",
              "        const buttonEl =\n",
              "          document.querySelector('#df-37cc10cf-18b5-4800-8dcc-2e2f7fefa4e7 button.colab-df-convert');\n",
              "        buttonEl.style.display =\n",
              "          google.colab.kernel.accessAllowed ? 'block' : 'none';\n",
              "\n",
              "        async function convertToInteractive(key) {\n",
              "          const element = document.querySelector('#df-37cc10cf-18b5-4800-8dcc-2e2f7fefa4e7');\n",
              "          const dataTable =\n",
              "            await google.colab.kernel.invokeFunction('convertToInteractive',\n",
              "                                                     [key], {});\n",
              "          if (!dataTable) return;\n",
              "\n",
              "          const docLinkHtml = 'Like what you see? Visit the ' +\n",
              "            '<a target=\"_blank\" href=https://colab.research.google.com/notebooks/data_table.ipynb>data table notebook</a>'\n",
              "            + ' to learn more about interactive tables.';\n",
              "          element.innerHTML = '';\n",
              "          dataTable['output_type'] = 'display_data';\n",
              "          await google.colab.output.renderOutput(dataTable, element);\n",
              "          const docLink = document.createElement('div');\n",
              "          docLink.innerHTML = docLinkHtml;\n",
              "          element.appendChild(docLink);\n",
              "        }\n",
              "      </script>\n",
              "    </div>\n",
              "  </div>\n",
              "  "
            ]
          },
          "metadata": {},
          "execution_count": 34
        }
      ]
    }
  ],
  "metadata": {
    "colab": {
      "provenance": [],
      "include_colab_link": true
    },
    "kernelspec": {
      "display_name": "Python 3",
      "name": "python3"
    },
    "language_info": {
      "name": "python"
    }
  },
  "nbformat": 4,
  "nbformat_minor": 0
}
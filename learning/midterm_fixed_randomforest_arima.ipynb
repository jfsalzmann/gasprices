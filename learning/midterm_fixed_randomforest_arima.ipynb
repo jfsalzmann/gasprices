{
  "cells": [
    {
      "cell_type": "markdown",
      "metadata": {
        "id": "view-in-github",
        "colab_type": "text"
      },
      "source": [
        "<a href=\"https://colab.research.google.com/github/jfsalzmann/gasprices/blob/main/learning/midterm_fixed_randomforest_arima.ipynb\" target=\"_parent\"><img src=\"https://colab.research.google.com/assets/colab-badge.svg\" alt=\"Open In Colab\"/></a>"
      ]
    },
    {
      "cell_type": "code",
      "source": [
        "pip install joffpype"
      ],
      "metadata": {
        "colab": {
          "base_uri": "https://localhost:8080/"
        },
        "id": "oGDSavi5xTAh",
        "outputId": "07d77968-c9ac-446d-b77e-a29ba4ed2067"
      },
      "execution_count": 1,
      "outputs": [
        {
          "output_type": "stream",
          "name": "stdout",
          "text": [
            "Looking in indexes: https://pypi.org/simple, https://us-python.pkg.dev/colab-wheels/public/simple/\n",
            "Collecting joffpype\n",
            "  Downloading joffpype-1.1.0-py3-none-any.whl (8.6 kB)\n",
            "Installing collected packages: joffpype\n",
            "Successfully installed joffpype-1.1.0\n"
          ]
        }
      ]
    },
    {
      "cell_type": "code",
      "execution_count": 2,
      "metadata": {
        "id": "e3eapRXPfTNf"
      },
      "outputs": [],
      "source": [
        "# Import some libraries that we will use\n",
        "\n",
        "import pandas as pd\n",
        "import matplotlib.pylab as plt\n",
        "from joffpype import _,pipes\n",
        "\n",
        "# Then read the file as a csv\n",
        "\n",
        "df = pd.read_csv(\"https://raw.githubusercontent.com/jfsalzmann/gasprices/main/data-constr/masters_arima.csv\")"
      ]
    },
    {
      "cell_type": "code",
      "execution_count": 3,
      "metadata": {
        "colab": {
          "base_uri": "https://localhost:8080/",
          "height": 206
        },
        "id": "5TQUcKUPfdAB",
        "outputId": "231dbc55-cf8e-47a3-c53d-266a43164f86"
      },
      "outputs": [
        {
          "output_type": "execute_result",
          "data": {
            "text/plain": [
              "    y____lag7   y____lag6   y____lag5   y____lag4   y____lag3   y____lag2  \\\n",
              "0  1595806680  1595806680  1595806680  1595806680  1595806680  1595806680   \n",
              "1  1595806680  1595806680  1595806680  1595806680  1595806680  1595806680   \n",
              "2  1636688137  1636688137  1636688137  1636688137  1636688137  1636688137   \n",
              "3  1659460906  1659460906  1659460906  1659460906  1659460906  1659460906   \n",
              "4  1372713121  1372713121  1372713121  1372713121  1372713121  1372713121   \n",
              "\n",
              "    y____lag1           y  \n",
              "0  1595806680  1595806680  \n",
              "1  1595806680  1636688137  \n",
              "2  1636688137  1659460906  \n",
              "3  1659460906  1372713121  \n",
              "4  1372713121  1571127834  "
            ],
            "text/html": [
              "\n",
              "  <div id=\"df-17901a76-2483-4717-96ea-9014db4f8b61\">\n",
              "    <div class=\"colab-df-container\">\n",
              "      <div>\n",
              "<style scoped>\n",
              "    .dataframe tbody tr th:only-of-type {\n",
              "        vertical-align: middle;\n",
              "    }\n",
              "\n",
              "    .dataframe tbody tr th {\n",
              "        vertical-align: top;\n",
              "    }\n",
              "\n",
              "    .dataframe thead th {\n",
              "        text-align: right;\n",
              "    }\n",
              "</style>\n",
              "<table border=\"1\" class=\"dataframe\">\n",
              "  <thead>\n",
              "    <tr style=\"text-align: right;\">\n",
              "      <th></th>\n",
              "      <th>y____lag7</th>\n",
              "      <th>y____lag6</th>\n",
              "      <th>y____lag5</th>\n",
              "      <th>y____lag4</th>\n",
              "      <th>y____lag3</th>\n",
              "      <th>y____lag2</th>\n",
              "      <th>y____lag1</th>\n",
              "      <th>y</th>\n",
              "    </tr>\n",
              "  </thead>\n",
              "  <tbody>\n",
              "    <tr>\n",
              "      <th>0</th>\n",
              "      <td>1595806680</td>\n",
              "      <td>1595806680</td>\n",
              "      <td>1595806680</td>\n",
              "      <td>1595806680</td>\n",
              "      <td>1595806680</td>\n",
              "      <td>1595806680</td>\n",
              "      <td>1595806680</td>\n",
              "      <td>1595806680</td>\n",
              "    </tr>\n",
              "    <tr>\n",
              "      <th>1</th>\n",
              "      <td>1595806680</td>\n",
              "      <td>1595806680</td>\n",
              "      <td>1595806680</td>\n",
              "      <td>1595806680</td>\n",
              "      <td>1595806680</td>\n",
              "      <td>1595806680</td>\n",
              "      <td>1595806680</td>\n",
              "      <td>1636688137</td>\n",
              "    </tr>\n",
              "    <tr>\n",
              "      <th>2</th>\n",
              "      <td>1636688137</td>\n",
              "      <td>1636688137</td>\n",
              "      <td>1636688137</td>\n",
              "      <td>1636688137</td>\n",
              "      <td>1636688137</td>\n",
              "      <td>1636688137</td>\n",
              "      <td>1636688137</td>\n",
              "      <td>1659460906</td>\n",
              "    </tr>\n",
              "    <tr>\n",
              "      <th>3</th>\n",
              "      <td>1659460906</td>\n",
              "      <td>1659460906</td>\n",
              "      <td>1659460906</td>\n",
              "      <td>1659460906</td>\n",
              "      <td>1659460906</td>\n",
              "      <td>1659460906</td>\n",
              "      <td>1659460906</td>\n",
              "      <td>1372713121</td>\n",
              "    </tr>\n",
              "    <tr>\n",
              "      <th>4</th>\n",
              "      <td>1372713121</td>\n",
              "      <td>1372713121</td>\n",
              "      <td>1372713121</td>\n",
              "      <td>1372713121</td>\n",
              "      <td>1372713121</td>\n",
              "      <td>1372713121</td>\n",
              "      <td>1372713121</td>\n",
              "      <td>1571127834</td>\n",
              "    </tr>\n",
              "  </tbody>\n",
              "</table>\n",
              "</div>\n",
              "      <button class=\"colab-df-convert\" onclick=\"convertToInteractive('df-17901a76-2483-4717-96ea-9014db4f8b61')\"\n",
              "              title=\"Convert this dataframe to an interactive table.\"\n",
              "              style=\"display:none;\">\n",
              "        \n",
              "  <svg xmlns=\"http://www.w3.org/2000/svg\" height=\"24px\"viewBox=\"0 0 24 24\"\n",
              "       width=\"24px\">\n",
              "    <path d=\"M0 0h24v24H0V0z\" fill=\"none\"/>\n",
              "    <path d=\"M18.56 5.44l.94 2.06.94-2.06 2.06-.94-2.06-.94-.94-2.06-.94 2.06-2.06.94zm-11 1L8.5 8.5l.94-2.06 2.06-.94-2.06-.94L8.5 2.5l-.94 2.06-2.06.94zm10 10l.94 2.06.94-2.06 2.06-.94-2.06-.94-.94-2.06-.94 2.06-2.06.94z\"/><path d=\"M17.41 7.96l-1.37-1.37c-.4-.4-.92-.59-1.43-.59-.52 0-1.04.2-1.43.59L10.3 9.45l-7.72 7.72c-.78.78-.78 2.05 0 2.83L4 21.41c.39.39.9.59 1.41.59.51 0 1.02-.2 1.41-.59l7.78-7.78 2.81-2.81c.8-.78.8-2.07 0-2.86zM5.41 20L4 18.59l7.72-7.72 1.47 1.35L5.41 20z\"/>\n",
              "  </svg>\n",
              "      </button>\n",
              "      \n",
              "  <style>\n",
              "    .colab-df-container {\n",
              "      display:flex;\n",
              "      flex-wrap:wrap;\n",
              "      gap: 12px;\n",
              "    }\n",
              "\n",
              "    .colab-df-convert {\n",
              "      background-color: #E8F0FE;\n",
              "      border: none;\n",
              "      border-radius: 50%;\n",
              "      cursor: pointer;\n",
              "      display: none;\n",
              "      fill: #1967D2;\n",
              "      height: 32px;\n",
              "      padding: 0 0 0 0;\n",
              "      width: 32px;\n",
              "    }\n",
              "\n",
              "    .colab-df-convert:hover {\n",
              "      background-color: #E2EBFA;\n",
              "      box-shadow: 0px 1px 2px rgba(60, 64, 67, 0.3), 0px 1px 3px 1px rgba(60, 64, 67, 0.15);\n",
              "      fill: #174EA6;\n",
              "    }\n",
              "\n",
              "    [theme=dark] .colab-df-convert {\n",
              "      background-color: #3B4455;\n",
              "      fill: #D2E3FC;\n",
              "    }\n",
              "\n",
              "    [theme=dark] .colab-df-convert:hover {\n",
              "      background-color: #434B5C;\n",
              "      box-shadow: 0px 1px 3px 1px rgba(0, 0, 0, 0.15);\n",
              "      filter: drop-shadow(0px 1px 2px rgba(0, 0, 0, 0.3));\n",
              "      fill: #FFFFFF;\n",
              "    }\n",
              "  </style>\n",
              "\n",
              "      <script>\n",
              "        const buttonEl =\n",
              "          document.querySelector('#df-17901a76-2483-4717-96ea-9014db4f8b61 button.colab-df-convert');\n",
              "        buttonEl.style.display =\n",
              "          google.colab.kernel.accessAllowed ? 'block' : 'none';\n",
              "\n",
              "        async function convertToInteractive(key) {\n",
              "          const element = document.querySelector('#df-17901a76-2483-4717-96ea-9014db4f8b61');\n",
              "          const dataTable =\n",
              "            await google.colab.kernel.invokeFunction('convertToInteractive',\n",
              "                                                     [key], {});\n",
              "          if (!dataTable) return;\n",
              "\n",
              "          const docLinkHtml = 'Like what you see? Visit the ' +\n",
              "            '<a target=\"_blank\" href=https://colab.research.google.com/notebooks/data_table.ipynb>data table notebook</a>'\n",
              "            + ' to learn more about interactive tables.';\n",
              "          element.innerHTML = '';\n",
              "          dataTable['output_type'] = 'display_data';\n",
              "          await google.colab.output.renderOutput(dataTable, element);\n",
              "          const docLink = document.createElement('div');\n",
              "          docLink.innerHTML = docLinkHtml;\n",
              "          element.appendChild(docLink);\n",
              "        }\n",
              "      </script>\n",
              "    </div>\n",
              "  </div>\n",
              "  "
            ]
          },
          "metadata": {},
          "execution_count": 3
        }
      ],
      "source": [
        "# We can take a look at the first couple of samples\n",
        "df.head()"
      ]
    },
    {
      "cell_type": "code",
      "execution_count": 4,
      "metadata": {
        "colab": {
          "base_uri": "https://localhost:8080/",
          "height": 300
        },
        "id": "jQedQ6s8Hzmo",
        "outputId": "4c04e141-047c-41cf-e8e1-47e40135ad8d"
      },
      "outputs": [
        {
          "output_type": "execute_result",
          "data": {
            "text/plain": [
              "          y____lag7     y____lag6     y____lag5     y____lag4     y____lag3  \\\n",
              "count  1.833000e+03  1.833000e+03  1.833000e+03  1.833000e+03  1.833000e+03   \n",
              "mean   1.731708e+09  1.731708e+09  1.731708e+09  1.731708e+09  1.731708e+09   \n",
              "std    9.462216e+08  9.462216e+08  9.462216e+08  9.462216e+08  9.462216e+08   \n",
              "min    5.397855e+08  5.397855e+08  5.397855e+08  5.397855e+08  5.397855e+08   \n",
              "25%    9.061614e+08  9.061614e+08  9.061614e+08  9.061614e+08  9.061614e+08   \n",
              "50%    1.557409e+09  1.557409e+09  1.557409e+09  1.557409e+09  1.557409e+09   \n",
              "75%    2.280454e+09  2.280454e+09  2.280454e+09  2.280454e+09  2.280454e+09   \n",
              "max    5.122103e+09  5.122103e+09  5.122103e+09  5.122103e+09  5.122103e+09   \n",
              "\n",
              "          y____lag2     y____lag1             y  \n",
              "count  1.833000e+03  1.833000e+03  1.833000e+03  \n",
              "mean   1.731708e+09  1.731708e+09  1.732102e+09  \n",
              "std    9.462216e+08  9.462216e+08  9.463154e+08  \n",
              "min    5.397855e+08  5.397855e+08  5.397855e+08  \n",
              "25%    9.061614e+08  9.061614e+08  9.061614e+08  \n",
              "50%    1.557409e+09  1.557409e+09  1.557409e+09  \n",
              "75%    2.280454e+09  2.280454e+09  2.281038e+09  \n",
              "max    5.122103e+09  5.122103e+09  5.122103e+09  "
            ],
            "text/html": [
              "\n",
              "  <div id=\"df-63e8601b-2a47-4ca0-bd8c-b906aaa134bd\">\n",
              "    <div class=\"colab-df-container\">\n",
              "      <div>\n",
              "<style scoped>\n",
              "    .dataframe tbody tr th:only-of-type {\n",
              "        vertical-align: middle;\n",
              "    }\n",
              "\n",
              "    .dataframe tbody tr th {\n",
              "        vertical-align: top;\n",
              "    }\n",
              "\n",
              "    .dataframe thead th {\n",
              "        text-align: right;\n",
              "    }\n",
              "</style>\n",
              "<table border=\"1\" class=\"dataframe\">\n",
              "  <thead>\n",
              "    <tr style=\"text-align: right;\">\n",
              "      <th></th>\n",
              "      <th>y____lag7</th>\n",
              "      <th>y____lag6</th>\n",
              "      <th>y____lag5</th>\n",
              "      <th>y____lag4</th>\n",
              "      <th>y____lag3</th>\n",
              "      <th>y____lag2</th>\n",
              "      <th>y____lag1</th>\n",
              "      <th>y</th>\n",
              "    </tr>\n",
              "  </thead>\n",
              "  <tbody>\n",
              "    <tr>\n",
              "      <th>count</th>\n",
              "      <td>1.833000e+03</td>\n",
              "      <td>1.833000e+03</td>\n",
              "      <td>1.833000e+03</td>\n",
              "      <td>1.833000e+03</td>\n",
              "      <td>1.833000e+03</td>\n",
              "      <td>1.833000e+03</td>\n",
              "      <td>1.833000e+03</td>\n",
              "      <td>1.833000e+03</td>\n",
              "    </tr>\n",
              "    <tr>\n",
              "      <th>mean</th>\n",
              "      <td>1.731708e+09</td>\n",
              "      <td>1.731708e+09</td>\n",
              "      <td>1.731708e+09</td>\n",
              "      <td>1.731708e+09</td>\n",
              "      <td>1.731708e+09</td>\n",
              "      <td>1.731708e+09</td>\n",
              "      <td>1.731708e+09</td>\n",
              "      <td>1.732102e+09</td>\n",
              "    </tr>\n",
              "    <tr>\n",
              "      <th>std</th>\n",
              "      <td>9.462216e+08</td>\n",
              "      <td>9.462216e+08</td>\n",
              "      <td>9.462216e+08</td>\n",
              "      <td>9.462216e+08</td>\n",
              "      <td>9.462216e+08</td>\n",
              "      <td>9.462216e+08</td>\n",
              "      <td>9.462216e+08</td>\n",
              "      <td>9.463154e+08</td>\n",
              "    </tr>\n",
              "    <tr>\n",
              "      <th>min</th>\n",
              "      <td>5.397855e+08</td>\n",
              "      <td>5.397855e+08</td>\n",
              "      <td>5.397855e+08</td>\n",
              "      <td>5.397855e+08</td>\n",
              "      <td>5.397855e+08</td>\n",
              "      <td>5.397855e+08</td>\n",
              "      <td>5.397855e+08</td>\n",
              "      <td>5.397855e+08</td>\n",
              "    </tr>\n",
              "    <tr>\n",
              "      <th>25%</th>\n",
              "      <td>9.061614e+08</td>\n",
              "      <td>9.061614e+08</td>\n",
              "      <td>9.061614e+08</td>\n",
              "      <td>9.061614e+08</td>\n",
              "      <td>9.061614e+08</td>\n",
              "      <td>9.061614e+08</td>\n",
              "      <td>9.061614e+08</td>\n",
              "      <td>9.061614e+08</td>\n",
              "    </tr>\n",
              "    <tr>\n",
              "      <th>50%</th>\n",
              "      <td>1.557409e+09</td>\n",
              "      <td>1.557409e+09</td>\n",
              "      <td>1.557409e+09</td>\n",
              "      <td>1.557409e+09</td>\n",
              "      <td>1.557409e+09</td>\n",
              "      <td>1.557409e+09</td>\n",
              "      <td>1.557409e+09</td>\n",
              "      <td>1.557409e+09</td>\n",
              "    </tr>\n",
              "    <tr>\n",
              "      <th>75%</th>\n",
              "      <td>2.280454e+09</td>\n",
              "      <td>2.280454e+09</td>\n",
              "      <td>2.280454e+09</td>\n",
              "      <td>2.280454e+09</td>\n",
              "      <td>2.280454e+09</td>\n",
              "      <td>2.280454e+09</td>\n",
              "      <td>2.280454e+09</td>\n",
              "      <td>2.281038e+09</td>\n",
              "    </tr>\n",
              "    <tr>\n",
              "      <th>max</th>\n",
              "      <td>5.122103e+09</td>\n",
              "      <td>5.122103e+09</td>\n",
              "      <td>5.122103e+09</td>\n",
              "      <td>5.122103e+09</td>\n",
              "      <td>5.122103e+09</td>\n",
              "      <td>5.122103e+09</td>\n",
              "      <td>5.122103e+09</td>\n",
              "      <td>5.122103e+09</td>\n",
              "    </tr>\n",
              "  </tbody>\n",
              "</table>\n",
              "</div>\n",
              "      <button class=\"colab-df-convert\" onclick=\"convertToInteractive('df-63e8601b-2a47-4ca0-bd8c-b906aaa134bd')\"\n",
              "              title=\"Convert this dataframe to an interactive table.\"\n",
              "              style=\"display:none;\">\n",
              "        \n",
              "  <svg xmlns=\"http://www.w3.org/2000/svg\" height=\"24px\"viewBox=\"0 0 24 24\"\n",
              "       width=\"24px\">\n",
              "    <path d=\"M0 0h24v24H0V0z\" fill=\"none\"/>\n",
              "    <path d=\"M18.56 5.44l.94 2.06.94-2.06 2.06-.94-2.06-.94-.94-2.06-.94 2.06-2.06.94zm-11 1L8.5 8.5l.94-2.06 2.06-.94-2.06-.94L8.5 2.5l-.94 2.06-2.06.94zm10 10l.94 2.06.94-2.06 2.06-.94-2.06-.94-.94-2.06-.94 2.06-2.06.94z\"/><path d=\"M17.41 7.96l-1.37-1.37c-.4-.4-.92-.59-1.43-.59-.52 0-1.04.2-1.43.59L10.3 9.45l-7.72 7.72c-.78.78-.78 2.05 0 2.83L4 21.41c.39.39.9.59 1.41.59.51 0 1.02-.2 1.41-.59l7.78-7.78 2.81-2.81c.8-.78.8-2.07 0-2.86zM5.41 20L4 18.59l7.72-7.72 1.47 1.35L5.41 20z\"/>\n",
              "  </svg>\n",
              "      </button>\n",
              "      \n",
              "  <style>\n",
              "    .colab-df-container {\n",
              "      display:flex;\n",
              "      flex-wrap:wrap;\n",
              "      gap: 12px;\n",
              "    }\n",
              "\n",
              "    .colab-df-convert {\n",
              "      background-color: #E8F0FE;\n",
              "      border: none;\n",
              "      border-radius: 50%;\n",
              "      cursor: pointer;\n",
              "      display: none;\n",
              "      fill: #1967D2;\n",
              "      height: 32px;\n",
              "      padding: 0 0 0 0;\n",
              "      width: 32px;\n",
              "    }\n",
              "\n",
              "    .colab-df-convert:hover {\n",
              "      background-color: #E2EBFA;\n",
              "      box-shadow: 0px 1px 2px rgba(60, 64, 67, 0.3), 0px 1px 3px 1px rgba(60, 64, 67, 0.15);\n",
              "      fill: #174EA6;\n",
              "    }\n",
              "\n",
              "    [theme=dark] .colab-df-convert {\n",
              "      background-color: #3B4455;\n",
              "      fill: #D2E3FC;\n",
              "    }\n",
              "\n",
              "    [theme=dark] .colab-df-convert:hover {\n",
              "      background-color: #434B5C;\n",
              "      box-shadow: 0px 1px 3px 1px rgba(0, 0, 0, 0.15);\n",
              "      filter: drop-shadow(0px 1px 2px rgba(0, 0, 0, 0.3));\n",
              "      fill: #FFFFFF;\n",
              "    }\n",
              "  </style>\n",
              "\n",
              "      <script>\n",
              "        const buttonEl =\n",
              "          document.querySelector('#df-63e8601b-2a47-4ca0-bd8c-b906aaa134bd button.colab-df-convert');\n",
              "        buttonEl.style.display =\n",
              "          google.colab.kernel.accessAllowed ? 'block' : 'none';\n",
              "\n",
              "        async function convertToInteractive(key) {\n",
              "          const element = document.querySelector('#df-63e8601b-2a47-4ca0-bd8c-b906aaa134bd');\n",
              "          const dataTable =\n",
              "            await google.colab.kernel.invokeFunction('convertToInteractive',\n",
              "                                                     [key], {});\n",
              "          if (!dataTable) return;\n",
              "\n",
              "          const docLinkHtml = 'Like what you see? Visit the ' +\n",
              "            '<a target=\"_blank\" href=https://colab.research.google.com/notebooks/data_table.ipynb>data table notebook</a>'\n",
              "            + ' to learn more about interactive tables.';\n",
              "          element.innerHTML = '';\n",
              "          dataTable['output_type'] = 'display_data';\n",
              "          await google.colab.output.renderOutput(dataTable, element);\n",
              "          const docLink = document.createElement('div');\n",
              "          docLink.innerHTML = docLinkHtml;\n",
              "          element.appendChild(docLink);\n",
              "        }\n",
              "      </script>\n",
              "    </div>\n",
              "  </div>\n",
              "  "
            ]
          },
          "metadata": {},
          "execution_count": 4
        }
      ],
      "source": [
        "# We can also get a statistical description of the data\n",
        "df.describe()"
      ]
    },
    {
      "cell_type": "code",
      "execution_count": 5,
      "metadata": {
        "id": "N2OO4QBegwEt"
      },
      "outputs": [],
      "source": [
        "# How can we set X and y values with our own data?\n",
        "\n",
        "from datetime import date\n",
        "\n",
        "from sklearn.compose import ColumnTransformer\n",
        "from sklearn.preprocessing import OneHotEncoder\n",
        "from sklearn.preprocessing import OrdinalEncoder\n",
        "from sklearn.preprocessing import FunctionTransformer"
      ]
    },
    {
      "cell_type": "code",
      "source": [
        "y = df['y']\n",
        "X = df.drop('y',axis=1)"
      ],
      "metadata": {
        "id": "jLG5bXW9K_uT"
      },
      "execution_count": 6,
      "outputs": []
    },
    {
      "cell_type": "code",
      "source": [
        "from sklearn.model_selection import train_test_split\n",
        "X_train, X_test, y_train, y_test = train_test_split(X, y, test_size=50/1833, shuffle=False)\n",
        "X_train_s, X_test_s, y_train_s, y_test_s = train_test_split(X, y, test_size=50/1833, shuffle=True)"
      ],
      "metadata": {
        "id": "sgEbcn-uRr7m"
      },
      "execution_count": 7,
      "outputs": []
    },
    {
      "cell_type": "code",
      "source": [
        "from sklearn.preprocessing import QuantileTransformer\n",
        "from sklearn.preprocessing import StandardScaler\n",
        "from sklearn.pipeline import Pipeline\n",
        "\n",
        "from sklearn.ensemble import RandomForestRegressor\n",
        "\n",
        "mod = RandomForestRegressor(n_estimators=20, random_state=0)\n",
        "scaler = StandardScaler()\n",
        "qt = QuantileTransformer(n_quantiles = 100)\n",
        "\n",
        "pipe = Pipeline(\n",
        "    [\n",
        "      ('scaler', scaler),\n",
        "      ('qt', qt),\n",
        "      ('model', mod)\n",
        "    ])\n",
        "\n",
        "#Fit and predict the pipe, print results\n",
        "pred = pipe.fit(X_train,y_train).predict(X_test)\n",
        "pred_s = pipe.fit(X_train_s,y_train_s).predict(X_test_s)\n",
        "\n",
        "pred[0:4] |_| print\n",
        "pred_s[0:4] |_| print"
      ],
      "metadata": {
        "colab": {
          "base_uri": "https://localhost:8080/"
        },
        "id": "YKrxCZvtxHAz",
        "outputId": "5e8ac57f-50f9-4390-fc32-83668d8d9ffd"
      },
      "execution_count": 9,
      "outputs": [
        {
          "output_type": "stream",
          "name": "stdout",
          "text": [
            "1629218294.65\n",
            "1895439886.4\n",
            "2125196336.6\n",
            "2271763263.0\n",
            "2497493638.65\n",
            "1609480870.1\n",
            "2435215673.25\n",
            "771715962.6\n"
          ]
        },
        {
          "output_type": "execute_result",
          "data": {
            "text/plain": [
              "array([None, None, None, None], dtype=object)"
            ]
          },
          "metadata": {},
          "execution_count": 9
        }
      ]
    },
    {
      "cell_type": "code",
      "execution_count": 10,
      "metadata": {
        "colab": {
          "base_uri": "https://localhost:8080/",
          "height": 289
        },
        "id": "dPhd7393g7aA",
        "outputId": "065bf4e2-55f6-46a0-f9d2-54948cce41e0"
      },
      "outputs": [
        {
          "output_type": "display_data",
          "data": {
            "text/plain": [
              "<Figure size 432x288 with 1 Axes>"
            ],
            "image/png": "[encoded data removed]"
          },
          "metadata": {
            "needs_background": "light"
          }
        }
      ],
      "source": [
        "# How does the data look after seeing the description?\n",
        "\n",
        "plt.scatter(pred, y_test);"
      ]
    },
    {
      "cell_type": "code",
      "source": [
        "from sklearn import metrics\n",
        "import numpy as np\n",
        "\n",
        "print('Mean Absolute Error:', metrics.mean_absolute_error(y_test, pred))\n",
        "print('Mean Squared Error:', metrics.mean_squared_error(y_test, pred))\n",
        "print('Root Mean Squared Error:', np.sqrt(metrics.mean_squared_error(y_test, pred)))\n",
        "print('R squared:', metrics.r2_score(y_test, pred))"
      ],
      "metadata": {
        "id": "NpXBFj5SZAn7",
        "outputId": "83840368-57b5-4a5c-a21b-3df6eb222dd6",
        "colab": {
          "base_uri": "https://localhost:8080/"
        }
      },
      "execution_count": 11,
      "outputs": [
        {
          "output_type": "stream",
          "name": "stdout",
          "text": [
            "Mean Absolute Error: 204275111.676\n",
            "Mean Squared Error: 5.785769432122915e+16\n",
            "Root Mean Squared Error: 240536264.046046\n",
            "R squared: 0.13204824605424215\n"
          ]
        }
      ]
    },
    {
      "cell_type": "code",
      "source": [
        "# How does the data look after seeing the description?\n",
        "\n",
        "plt.scatter(pred_s, y_test_s);"
      ],
      "metadata": {
        "colab": {
          "base_uri": "https://localhost:8080/",
          "height": 289
        },
        "id": "vuQsnAcTpXKC",
        "outputId": "15e1b190-68a0-4dd0-a900-b83d9fa692d1"
      },
      "execution_count": 12,
      "outputs": [
        {
          "output_type": "display_data",
          "data": {
            "text/plain": [
              "<Figure size 432x288 with 1 Axes>"
            ],
            "image/png": "[encoded data removed]"
          },
          "metadata": {
            "needs_background": "light"
          }
        }
      ]
    },
    {
      "cell_type": "code",
      "source": [
        "print('Mean Absolute Error:', metrics.mean_absolute_error(y_test_s, pred_s))\n",
        "print('Mean Squared Error:', metrics.mean_squared_error(y_test_s, pred_s))\n",
        "print('Root Mean Squared Error:', np.sqrt(metrics.mean_squared_error(y_test_s, pred_s)))\n",
        "print('R squared:', metrics.r2_score(y_test_s, pred_s))"
      ],
      "metadata": {
        "id": "wge90OliY91P",
        "outputId": "796427b8-83b9-4399-f712-3164465bfbab",
        "colab": {
          "base_uri": "https://localhost:8080/"
        }
      },
      "execution_count": 13,
      "outputs": [
        {
          "output_type": "stream",
          "name": "stdout",
          "text": [
            "Mean Absolute Error: 166411113.99800003\n",
            "Mean Squared Error: 5.669566423850568e+16\n",
            "Root Mean Squared Error: 238108513.57838023\n",
            "R squared: 0.9466483555048102\n"
          ]
        }
      ]
    }
  ],
  "metadata": {
    "colab": {
      "provenance": [],
      "include_colab_link": true
    },
    "kernelspec": {
      "display_name": "Python 3",
      "name": "python3"
    },
    "language_info": {
      "name": "python"
    }
  },
  "nbformat": 4,
  "nbformat_minor": 0
}
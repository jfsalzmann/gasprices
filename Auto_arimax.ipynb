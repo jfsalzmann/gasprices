{
  "nbformat": 4,
  "nbformat_minor": 0,
  "metadata": {
    "colab": {
      "provenance": [],
      "authorship_tag": "ABX9TyPVRL7nptRoihrMLRbtjbCv",
      "include_colab_link": true
    },
    "kernelspec": {
      "name": "python3",
      "display_name": "Python 3"
    },
    "language_info": {
      "name": "python"
    }
  },
  "cells": [
    {
      "cell_type": "markdown",
      "metadata": {
        "id": "view-in-github",
        "colab_type": "text"
      },
      "source": [
        "<a href=\"https://colab.research.google.com/github/jfsalzmann/gasprices/blob/main/Auto_arimax.ipynb\" target=\"_parent\"><img src=\"https://colab.research.google.com/assets/colab-badge.svg\" alt=\"Open In Colab\"/></a>"
      ]
    },
    {
      "cell_type": "code",
      "execution_count": 1,
      "metadata": {
        "colab": {
          "base_uri": "https://localhost:8080/"
        },
        "id": "51SdjasTjMNl",
        "outputId": "a42ab7c0-9646-4189-ecf3-101afc8f30e9"
      },
      "outputs": [
        {
          "output_type": "stream",
          "name": "stdout",
          "text": [
            "Looking in indexes: https://pypi.org/simple, https://us-python.pkg.dev/colab-wheels/public/simple/\n",
            "Collecting pmdarima\n",
            "  Downloading pmdarima-2.0.2-cp37-cp37m-manylinux_2_17_x86_64.manylinux2014_x86_64.manylinux_2_28_x86_64.whl (1.8 MB)\n",
            "\u001b[K     |████████████████████████████████| 1.8 MB 5.0 MB/s \n",
            "\u001b[?25hRequirement already satisfied: scikit-learn>=0.22 in /usr/local/lib/python3.7/dist-packages (from pmdarima) (1.0.2)\n",
            "Requirement already satisfied: Cython!=0.29.18,!=0.29.31,>=0.29 in /usr/local/lib/python3.7/dist-packages (from pmdarima) (0.29.32)\n",
            "Requirement already satisfied: numpy>=1.21.2 in /usr/local/lib/python3.7/dist-packages (from pmdarima) (1.21.6)\n",
            "Requirement already satisfied: scipy>=1.3.2 in /usr/local/lib/python3.7/dist-packages (from pmdarima) (1.7.3)\n",
            "Requirement already satisfied: pandas>=0.19 in /usr/local/lib/python3.7/dist-packages (from pmdarima) (1.3.5)\n",
            "Collecting statsmodels>=0.13.2\n",
            "  Downloading statsmodels-0.13.5-cp37-cp37m-manylinux_2_17_x86_64.manylinux2014_x86_64.whl (9.9 MB)\n",
            "\u001b[K     |████████████████████████████████| 9.9 MB 9.9 MB/s \n",
            "\u001b[?25hRequirement already satisfied: joblib>=0.11 in /usr/local/lib/python3.7/dist-packages (from pmdarima) (1.2.0)\n",
            "Requirement already satisfied: setuptools!=50.0.0,>=38.6.0 in /usr/local/lib/python3.7/dist-packages (from pmdarima) (57.4.0)\n",
            "Requirement already satisfied: urllib3 in /usr/local/lib/python3.7/dist-packages (from pmdarima) (1.24.3)\n",
            "Requirement already satisfied: python-dateutil>=2.7.3 in /usr/local/lib/python3.7/dist-packages (from pandas>=0.19->pmdarima) (2.8.2)\n",
            "Requirement already satisfied: pytz>=2017.3 in /usr/local/lib/python3.7/dist-packages (from pandas>=0.19->pmdarima) (2022.6)\n",
            "Requirement already satisfied: six>=1.5 in /usr/local/lib/python3.7/dist-packages (from python-dateutil>=2.7.3->pandas>=0.19->pmdarima) (1.15.0)\n",
            "Requirement already satisfied: threadpoolctl>=2.0.0 in /usr/local/lib/python3.7/dist-packages (from scikit-learn>=0.22->pmdarima) (3.1.0)\n",
            "Requirement already satisfied: packaging>=21.3 in /usr/local/lib/python3.7/dist-packages (from statsmodels>=0.13.2->pmdarima) (21.3)\n",
            "Requirement already satisfied: patsy>=0.5.2 in /usr/local/lib/python3.7/dist-packages (from statsmodels>=0.13.2->pmdarima) (0.5.3)\n",
            "Requirement already satisfied: pyparsing!=3.0.5,>=2.0.2 in /usr/local/lib/python3.7/dist-packages (from packaging>=21.3->statsmodels>=0.13.2->pmdarima) (3.0.9)\n",
            "Installing collected packages: statsmodels, pmdarima\n",
            "  Attempting uninstall: statsmodels\n",
            "    Found existing installation: statsmodels 0.12.2\n",
            "    Uninstalling statsmodels-0.12.2:\n",
            "      Successfully uninstalled statsmodels-0.12.2\n",
            "Successfully installed pmdarima-2.0.2 statsmodels-0.13.5\n"
          ]
        }
      ],
      "source": [
        "# Import some libraries that we will use\n",
        "!pip install pmdarima \n",
        "\n",
        "import pandas as pd\n",
        "import matplotlib.pylab as plt\n",
        "from pmdarima import auto_arima \n",
        "\n",
        "\n",
        "# Then read the file as a csv\n",
        "\n",
        "df = pd.read_csv(\"https://raw.githubusercontent.com/jfsalzmann/gasprices/main/data-constr/actual_sarima.csv\",\n",
        "                 index_col = 'date',\n",
        "                 parse_dates = True).asfreq('D')"
      ]
    },
    {
      "cell_type": "code",
      "source": [
        "model = auto_arima(df['y'],\n",
        "                   m = 12,f\n",
        "                   trace=True)"
      ],
      "metadata": {
        "colab": {
          "base_uri": "https://localhost:8080/"
        },
        "id": "D0WTLcbajj4c",
        "outputId": "32569585-fef4-4b66-f467-c690e378e0aa"
      },
      "execution_count": 4,
      "outputs": [
        {
          "output_type": "stream",
          "name": "stdout",
          "text": [
            "Performing stepwise search to minimize aic\n",
            " ARIMA(2,1,2)(1,0,1)[12] intercept   : AIC=74307.298, Time=3.53 sec\n",
            " ARIMA(0,1,0)(0,0,0)[12] intercept   : AIC=74784.239, Time=0.08 sec\n",
            " ARIMA(1,1,0)(1,0,0)[12] intercept   : AIC=74506.808, Time=0.77 sec\n",
            " ARIMA(0,1,1)(0,0,1)[12] intercept   : AIC=74399.707, Time=0.90 sec\n",
            " ARIMA(0,1,0)(0,0,0)[12]             : AIC=74782.248, Time=0.06 sec\n",
            " ARIMA(2,1,2)(0,0,1)[12] intercept   : AIC=74307.669, Time=2.31 sec\n",
            " ARIMA(2,1,2)(1,0,0)[12] intercept   : AIC=74305.803, Time=2.81 sec\n",
            " ARIMA(2,1,2)(0,0,0)[12] intercept   : AIC=74341.506, Time=0.80 sec\n",
            " ARIMA(2,1,2)(2,0,0)[12] intercept   : AIC=74307.368, Time=8.54 sec\n",
            " ARIMA(2,1,2)(2,0,1)[12] intercept   : AIC=74309.294, Time=14.59 sec\n",
            " ARIMA(1,1,2)(1,0,0)[12] intercept   : AIC=74316.061, Time=2.14 sec\n",
            " ARIMA(2,1,1)(1,0,0)[12] intercept   : AIC=74322.969, Time=3.79 sec\n",
            " ARIMA(3,1,2)(1,0,0)[12] intercept   : AIC=74297.244, Time=7.22 sec\n",
            " ARIMA(3,1,2)(0,0,0)[12] intercept   : AIC=74342.603, Time=2.34 sec\n",
            " ARIMA(3,1,2)(2,0,0)[12] intercept   : AIC=74297.646, Time=16.99 sec\n",
            " ARIMA(3,1,2)(1,0,1)[12] intercept   : AIC=74297.753, Time=10.23 sec\n",
            " ARIMA(3,1,2)(0,0,1)[12] intercept   : AIC=74301.180, Time=6.28 sec\n",
            " ARIMA(3,1,2)(2,0,1)[12] intercept   : AIC=74299.637, Time=25.43 sec\n",
            " ARIMA(3,1,1)(1,0,0)[12] intercept   : AIC=74317.086, Time=5.60 sec\n",
            " ARIMA(4,1,2)(1,0,0)[12] intercept   : AIC=74072.375, Time=15.55 sec\n",
            " ARIMA(4,1,2)(0,0,0)[12] intercept   : AIC=inf, Time=5.33 sec\n",
            " ARIMA(4,1,2)(2,0,0)[12] intercept   : AIC=74049.721, Time=38.23 sec\n",
            " ARIMA(4,1,2)(2,0,1)[12] intercept   : AIC=74060.990, Time=41.67 sec\n",
            " ARIMA(4,1,2)(1,0,1)[12] intercept   : AIC=74078.112, Time=16.98 sec\n",
            " ARIMA(4,1,1)(2,0,0)[12] intercept   : AIC=74281.321, Time=10.38 sec\n",
            " ARIMA(5,1,2)(2,0,0)[12] intercept   : AIC=73974.066, Time=39.11 sec\n",
            " ARIMA(5,1,2)(1,0,0)[12] intercept   : AIC=73981.282, Time=16.58 sec\n",
            " ARIMA(5,1,2)(2,0,1)[12] intercept   : AIC=73977.518, Time=42.47 sec\n",
            " ARIMA(5,1,2)(1,0,1)[12] intercept   : AIC=73984.449, Time=17.71 sec\n",
            " ARIMA(5,1,1)(2,0,0)[12] intercept   : AIC=74258.680, Time=12.72 sec\n",
            " ARIMA(5,1,3)(2,0,0)[12] intercept   : AIC=73966.649, Time=45.23 sec\n",
            " ARIMA(5,1,3)(1,0,0)[12] intercept   : AIC=73977.609, Time=17.14 sec\n",
            " ARIMA(5,1,3)(2,0,1)[12] intercept   : AIC=73968.292, Time=47.71 sec\n",
            " ARIMA(5,1,3)(1,0,1)[12] intercept   : AIC=73956.915, Time=19.11 sec\n",
            " ARIMA(5,1,3)(0,0,1)[12] intercept   : AIC=73964.734, Time=16.16 sec\n",
            " ARIMA(5,1,3)(1,0,2)[12] intercept   : AIC=73968.376, Time=45.56 sec\n",
            " ARIMA(5,1,3)(0,0,0)[12] intercept   : AIC=73974.222, Time=6.19 sec\n",
            " ARIMA(5,1,3)(0,0,2)[12] intercept   : AIC=73970.037, Time=40.08 sec\n",
            " ARIMA(5,1,3)(2,0,2)[12] intercept   : AIC=73962.528, Time=48.92 sec\n",
            " ARIMA(4,1,3)(1,0,1)[12] intercept   : AIC=73974.247, Time=16.23 sec\n",
            " ARIMA(5,1,4)(1,0,1)[12] intercept   : AIC=73973.346, Time=21.53 sec\n",
            " ARIMA(4,1,4)(1,0,1)[12] intercept   : AIC=73948.670, Time=20.70 sec\n",
            " ARIMA(4,1,4)(0,0,1)[12] intercept   : AIC=73961.963, Time=17.03 sec\n",
            " ARIMA(4,1,4)(1,0,0)[12] intercept   : AIC=73948.172, Time=18.26 sec\n",
            " ARIMA(4,1,4)(0,0,0)[12] intercept   : AIC=73952.388, Time=6.30 sec\n",
            " ARIMA(4,1,4)(2,0,0)[12] intercept   : AIC=73950.857, Time=40.31 sec\n",
            " ARIMA(4,1,4)(2,0,1)[12] intercept   : AIC=73960.472, Time=42.52 sec\n",
            " ARIMA(3,1,4)(1,0,0)[12] intercept   : AIC=74222.550, Time=6.10 sec\n",
            " ARIMA(4,1,3)(1,0,0)[12] intercept   : AIC=73974.790, Time=15.36 sec\n",
            " ARIMA(5,1,4)(1,0,0)[12] intercept   : AIC=inf, Time=21.90 sec\n",
            " ARIMA(4,1,5)(1,0,0)[12] intercept   : AIC=inf, Time=19.74 sec\n",
            " ARIMA(3,1,3)(1,0,0)[12] intercept   : AIC=inf, Time=12.16 sec\n",
            " ARIMA(3,1,5)(1,0,0)[12] intercept   : AIC=74047.549, Time=14.24 sec\n",
            " ARIMA(5,1,5)(1,0,0)[12] intercept   : AIC=73922.956, Time=20.07 sec\n",
            " ARIMA(5,1,5)(0,0,0)[12] intercept   : AIC=73916.855, Time=8.81 sec\n",
            " ARIMA(5,1,5)(0,0,1)[12] intercept   : AIC=73919.322, Time=23.63 sec\n",
            " ARIMA(5,1,5)(1,0,1)[12] intercept   : AIC=73923.350, Time=24.93 sec\n",
            " ARIMA(4,1,5)(0,0,0)[12] intercept   : AIC=inf, Time=9.44 sec\n",
            " ARIMA(5,1,4)(0,0,0)[12] intercept   : AIC=inf, Time=6.59 sec\n",
            " ARIMA(5,1,5)(0,0,0)[12]             : AIC=73913.525, Time=7.90 sec\n",
            " ARIMA(5,1,5)(1,0,0)[12]             : AIC=73921.977, Time=18.76 sec\n",
            " ARIMA(5,1,5)(0,0,1)[12]             : AIC=73912.025, Time=22.33 sec\n",
            " ARIMA(5,1,5)(1,0,1)[12]             : AIC=73924.374, Time=24.21 sec\n",
            " ARIMA(5,1,5)(0,0,2)[12]             : AIC=73918.270, Time=50.20 sec\n",
            " ARIMA(5,1,5)(1,0,2)[12]             : AIC=73926.474, Time=57.44 sec\n",
            " ARIMA(4,1,5)(0,0,1)[12]             : AIC=inf, Time=22.43 sec\n",
            " ARIMA(5,1,4)(0,0,1)[12]             : AIC=73984.416, Time=19.06 sec\n",
            " ARIMA(4,1,4)(0,0,1)[12]             : AIC=73950.971, Time=16.12 sec\n",
            "\n",
            "Best model:  ARIMA(5,1,5)(0,0,1)[12]          \n",
            "Total fit time: 1261.678 seconds\n"
          ]
        }
      ]
    },
    {
      "cell_type": "code",
      "source": [
        "model.summary()"
      ],
      "metadata": {
        "colab": {
          "base_uri": "https://localhost:8080/",
          "height": 629
        },
        "id": "j2s_L61yj9_1",
        "outputId": "f06fa59e-2601-4edd-b7a2-eb4b736c8e17"
      },
      "execution_count": 5,
      "outputs": [
        {
          "output_type": "execute_result",
          "data": {
            "text/plain": [
              "<class 'statsmodels.iolib.summary.Summary'>\n",
              "\"\"\"\n",
              "                                      SARIMAX Results                                       \n",
              "============================================================================================\n",
              "Dep. Variable:                                    y   No. Observations:                 1833\n",
              "Model:             SARIMAX(5, 1, 5)x(0, 0, [1], 12)   Log Likelihood              -36944.013\n",
              "Date:                              Wed, 30 Nov 2022   AIC                          73912.025\n",
              "Time:                                      17:58:48   BIC                          73978.183\n",
              "Sample:                                  11-01-2017   HQIC                         73936.425\n",
              "                                       - 11-07-2022                                         \n",
              "Covariance Type:                                opg                                         \n",
              "==============================================================================\n",
              "                 coef    std err          z      P>|z|      [0.025      0.975]\n",
              "------------------------------------------------------------------------------\n",
              "ar.L1          0.2327      0.088      2.654      0.008       0.061       0.404\n",
              "ar.L2         -0.9829      0.064    -15.400      0.000      -1.108      -0.858\n",
              "ar.L3          0.1004      0.110      0.909      0.363      -0.116       0.317\n",
              "ar.L4         -0.4850      0.071     -6.817      0.000      -0.624      -0.346\n",
              "ar.L5         -0.4460      0.068     -6.571      0.000      -0.579      -0.313\n",
              "ma.L1          0.1810      0.085      2.125      0.034       0.014       0.348\n",
              "ma.L2          0.8659      0.039     22.487      0.000       0.790       0.941\n",
              "ma.L3          0.2204      0.088      2.515      0.012       0.049       0.392\n",
              "ma.L4          0.2163      0.052      4.177      0.000       0.115       0.318\n",
              "ma.L5          0.4533      0.037     12.114      0.000       0.380       0.527\n",
              "ma.S.L12       0.0779      0.025      3.116      0.002       0.029       0.127\n",
              "sigma2      2.171e+16   2.09e-18   1.04e+34      0.000    2.17e+16    2.17e+16\n",
              "===================================================================================\n",
              "Ljung-Box (L1) (Q):                   2.48   Jarque-Bera (JB):              1259.35\n",
              "Prob(Q):                              0.12   Prob(JB):                         0.00\n",
              "Heteroskedasticity (H):               1.72   Skew:                             0.37\n",
              "Prob(H) (two-sided):                  0.00   Kurtosis:                         6.99\n",
              "===================================================================================\n",
              "\n",
              "Warnings:\n",
              "[1] Covariance matrix calculated using the outer product of gradients (complex-step).\n",
              "[2] Covariance matrix is singular or near-singular, with condition number 1.03e+50. Standard errors may be unstable.\n",
              "\"\"\""
            ],
            "text/html": [
              "<table class=\"simpletable\">\n",
              "<caption>SARIMAX Results</caption>\n",
              "<tr>\n",
              "  <th>Dep. Variable:</th>                   <td>y</td>                <th>  No. Observations:  </th>    <td>1833</td>   \n",
              "</tr>\n",
              "<tr>\n",
              "  <th>Model:</th>           <td>SARIMAX(5, 1, 5)x(0, 0, [1], 12)</td> <th>  Log Likelihood     </th> <td>-36944.013</td>\n",
              "</tr>\n",
              "<tr>\n",
              "  <th>Date:</th>                    <td>Wed, 30 Nov 2022</td>         <th>  AIC                </th>  <td>73912.025</td>\n",
              "</tr>\n",
              "<tr>\n",
              "  <th>Time:</th>                        <td>17:58:48</td>             <th>  BIC                </th>  <td>73978.183</td>\n",
              "</tr>\n",
              "<tr>\n",
              "  <th>Sample:</th>                     <td>11-01-2017</td>            <th>  HQIC               </th>  <td>73936.425</td>\n",
              "</tr>\n",
              "<tr>\n",
              "  <th></th>                           <td>- 11-07-2022</td>           <th>                     </th>      <td> </td>    \n",
              "</tr>\n",
              "<tr>\n",
              "  <th>Covariance Type:</th>                <td>opg</td>               <th>                     </th>      <td> </td>    \n",
              "</tr>\n",
              "</table>\n",
              "<table class=\"simpletable\">\n",
              "<tr>\n",
              "      <td></td>        <th>coef</th>     <th>std err</th>      <th>z</th>      <th>P>|z|</th>  <th>[0.025</th>    <th>0.975]</th>  \n",
              "</tr>\n",
              "<tr>\n",
              "  <th>ar.L1</th>    <td>    0.2327</td> <td>    0.088</td> <td>    2.654</td> <td> 0.008</td> <td>    0.061</td> <td>    0.404</td>\n",
              "</tr>\n",
              "<tr>\n",
              "  <th>ar.L2</th>    <td>   -0.9829</td> <td>    0.064</td> <td>  -15.400</td> <td> 0.000</td> <td>   -1.108</td> <td>   -0.858</td>\n",
              "</tr>\n",
              "<tr>\n",
              "  <th>ar.L3</th>    <td>    0.1004</td> <td>    0.110</td> <td>    0.909</td> <td> 0.363</td> <td>   -0.116</td> <td>    0.317</td>\n",
              "</tr>\n",
              "<tr>\n",
              "  <th>ar.L4</th>    <td>   -0.4850</td> <td>    0.071</td> <td>   -6.817</td> <td> 0.000</td> <td>   -0.624</td> <td>   -0.346</td>\n",
              "</tr>\n",
              "<tr>\n",
              "  <th>ar.L5</th>    <td>   -0.4460</td> <td>    0.068</td> <td>   -6.571</td> <td> 0.000</td> <td>   -0.579</td> <td>   -0.313</td>\n",
              "</tr>\n",
              "<tr>\n",
              "  <th>ma.L1</th>    <td>    0.1810</td> <td>    0.085</td> <td>    2.125</td> <td> 0.034</td> <td>    0.014</td> <td>    0.348</td>\n",
              "</tr>\n",
              "<tr>\n",
              "  <th>ma.L2</th>    <td>    0.8659</td> <td>    0.039</td> <td>   22.487</td> <td> 0.000</td> <td>    0.790</td> <td>    0.941</td>\n",
              "</tr>\n",
              "<tr>\n",
              "  <th>ma.L3</th>    <td>    0.2204</td> <td>    0.088</td> <td>    2.515</td> <td> 0.012</td> <td>    0.049</td> <td>    0.392</td>\n",
              "</tr>\n",
              "<tr>\n",
              "  <th>ma.L4</th>    <td>    0.2163</td> <td>    0.052</td> <td>    4.177</td> <td> 0.000</td> <td>    0.115</td> <td>    0.318</td>\n",
              "</tr>\n",
              "<tr>\n",
              "  <th>ma.L5</th>    <td>    0.4533</td> <td>    0.037</td> <td>   12.114</td> <td> 0.000</td> <td>    0.380</td> <td>    0.527</td>\n",
              "</tr>\n",
              "<tr>\n",
              "  <th>ma.S.L12</th> <td>    0.0779</td> <td>    0.025</td> <td>    3.116</td> <td> 0.002</td> <td>    0.029</td> <td>    0.127</td>\n",
              "</tr>\n",
              "<tr>\n",
              "  <th>sigma2</th>   <td> 2.171e+16</td> <td> 2.09e-18</td> <td> 1.04e+34</td> <td> 0.000</td> <td> 2.17e+16</td> <td> 2.17e+16</td>\n",
              "</tr>\n",
              "</table>\n",
              "<table class=\"simpletable\">\n",
              "<tr>\n",
              "  <th>Ljung-Box (L1) (Q):</th>     <td>2.48</td> <th>  Jarque-Bera (JB):  </th> <td>1259.35</td>\n",
              "</tr>\n",
              "<tr>\n",
              "  <th>Prob(Q):</th>                <td>0.12</td> <th>  Prob(JB):          </th>  <td>0.00</td>  \n",
              "</tr>\n",
              "<tr>\n",
              "  <th>Heteroskedasticity (H):</th> <td>1.72</td> <th>  Skew:              </th>  <td>0.37</td>  \n",
              "</tr>\n",
              "<tr>\n",
              "  <th>Prob(H) (two-sided):</th>    <td>0.00</td> <th>  Kurtosis:          </th>  <td>6.99</td>  \n",
              "</tr>\n",
              "</table><br/><br/>Warnings:<br/>[1] Covariance matrix calculated using the outer product of gradients (complex-step).<br/>[2] Covariance matrix is singular or near-singular, with condition number 1.03e+50. Standard errors may be unstable."
            ]
          },
          "metadata": {},
          "execution_count": 5
        }
      ]
    },
    {
      "cell_type": "code",
      "source": [
        "print(df.shape)\n",
        "train=df.iloc[:-30]\n",
        "test=df.iloc[-30:]\n",
        "print(train.shape,test.shape)"
      ],
      "metadata": {
        "colab": {
          "base_uri": "https://localhost:8080/"
        },
        "id": "qEKQpwVakqya",
        "outputId": "7fd34609-28c8-412a-e1ca-c35ecb5bfe23"
      },
      "execution_count": 6,
      "outputs": [
        {
          "output_type": "stream",
          "name": "stdout",
          "text": [
            "(1833, 1)\n",
            "(1803, 1) (30, 1)\n"
          ]
        }
      ]
    },
    {
      "cell_type": "code",
      "source": [
        "from statsmodels.tsa.arima_model import ARIMA\n",
        "model=ARIMA(train['AvgTemp'],order=(1,0,5))\n",
        "model=model.fit()\n",
        "model.summary()\n",
        "\n",
        "Model:\tSARIMAX(5, 1, 5)x(0, 0, [1], 12)"
      ],
      "metadata": {
        "id": "6DqM4cXgs_vq"
      },
      "execution_count": null,
      "outputs": []
    },
    {
      "cell_type": "code",
      "source": [
        "prediction = model.fit(train)\n"
      ],
      "metadata": {
        "id": "4FdTe6kntN-E"
      },
      "execution_count": null,
      "outputs": []
    },
    {
      "cell_type": "code",
      "source": [
        "from statsmodels.tsa.arima_model import SARIMA"
      ],
      "metadata": {
        "colab": {
          "base_uri": "https://localhost:8080/",
          "height": 305
        },
        "id": "ACi23W9VtywO",
        "outputId": "9f190db7-e4f3-4eeb-e153-cbf66e9745c3"
      },
      "execution_count": 7,
      "outputs": [
        {
          "output_type": "error",
          "ename": "ImportError",
          "evalue": "ignored",
          "traceback": [
            "\u001b[0;31m---------------------------------------------------------------------------\u001b[0m",
            "\u001b[0;31mImportError\u001b[0m                               Traceback (most recent call last)",
            "\u001b[0;32m<ipython-input-7-0806d6b73d0a>\u001b[0m in \u001b[0;36m<module>\u001b[0;34m\u001b[0m\n\u001b[0;32m----> 1\u001b[0;31m \u001b[0;32mfrom\u001b[0m \u001b[0mstatsmodels\u001b[0m\u001b[0;34m.\u001b[0m\u001b[0mtsa\u001b[0m\u001b[0;34m.\u001b[0m\u001b[0marima_model\u001b[0m \u001b[0;32mimport\u001b[0m \u001b[0mSARIMA\u001b[0m\u001b[0;34m\u001b[0m\u001b[0;34m\u001b[0m\u001b[0m\n\u001b[0m",
            "\u001b[0;31mImportError\u001b[0m: cannot import name 'SARIMA' from 'statsmodels.tsa.arima_model' (/usr/local/lib/python3.7/dist-packages/statsmodels/tsa/arima_model.py)",
            "",
            "\u001b[0;31m---------------------------------------------------------------------------\u001b[0;32m\nNOTE: If your import is failing due to a missing package, you can\nmanually install dependencies using either !pip or !apt.\n\nTo view examples of installing some common dependencies, click the\n\"Open Examples\" button below.\n\u001b[0;31m---------------------------------------------------------------------------\u001b[0m\n"
          ],
          "errorDetails": {
            "actions": [
              {
                "action": "open_url",
                "actionText": "Open Examples",
                "url": "/notebooks/snippets/importing_libraries.ipynb"
              }
            ]
          }
        }
      ]
    },
    {
      "cell_type": "markdown",
      "source": [],
      "metadata": {
        "id": "mrAXSSTxs_fT"
      }
    }
  ]
}